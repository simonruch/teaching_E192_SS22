{
 "cells": [
  {
   "cell_type": "markdown",
   "id": "021eb62f-b529-4571-8695-25c5f3503eb0",
   "metadata": {},
   "source": [
    "# DIGITAL SIGNAL PROCESSING 2: FEATURE EXTRACTION\n",
    "Dr. Simon Ruch\n",
    " \n",
    "simon.ruch@uni-tuebingen.de"
   ]
  },
  {
   "cell_type": "markdown",
   "id": "84ddbcba-da74-4dde-a208-7cbfdde0f7d1",
   "metadata": {},
   "source": [
    "# FEATURE EXTRACTION: set environment\n",
    "set python environment"
   ]
  },
  {
   "cell_type": "code",
   "execution_count": null,
   "id": "7a613621-7f4c-4f79-aeef-82394108080b",
   "metadata": {
    "tags": []
   },
   "outputs": [],
   "source": [
    "do_installs = True\n",
    "if do_installs:\n",
    "    !pip install acoustics\n",
    "    !pip install numpy\n",
    "    !pip install scipy\n",
    "    !pip install matplotlib\n",
    "    !pip install mne\n",
    "    !pip install pandas\n",
    "    !pip install tensorpac\n",
    "    !pip install requests\n",
    "    !pip install h5py\n",
    "    !pip install spikeinterface\n",
    "    !pip install probeinterface\n",
    "    !pip install tridesclous\n",
    "    !pip install ipython\n",
    "    !pip install ipympl\n"
   ]
  },
  {
   "cell_type": "code",
   "execution_count": null,
   "id": "fe5ad365-8c26-4dee-861f-0aef7d573cd5",
   "metadata": {},
   "outputs": [],
   "source": [
    "import acoustics      #=> for creating artificial signals\n",
    "import numpy as np    #=> for numeric operations\n",
    "import scipy as sc    #=> for scientific computing\n",
    "import matplotlib.pyplot as plt #=> for plotting\n",
    "\n",
    "import mne            #=> for signal processing (M/EEG)\n",
    "# set browser backend to matplotlib => no popup\n",
    "mne.viz.set_browser_backend('matplotlib')\n",
    "\n",
    "\n",
    "\n",
    "\n",
    "import copy           #=> deepcopying\n",
    "\n",
    "import pandas as pd   #=> for working with data frames\n",
    "\n",
    "import requests       #=> for downloading data from the web\n",
    "\n",
    "import h5py           #=> for importing *.h5-files\n",
    "\n",
    "%matplotlib inline    \n",
    "                      #=> set plotting backend for notebooks"
   ]
  },
  {
   "cell_type": "markdown",
   "id": "6f48d710-5100-4ba9-8b9d-8bd37c5496e1",
   "metadata": {
    "tags": []
   },
   "source": [
    "# FEATURE EXTRACTION\n",
    "Once the signal is cleaned, we can extract specific features that can be used for further analyses (e.g. machine learning, or statistical testing)\n",
    "\n",
    "Possible relevant features (to be discussed in the lecture):\n",
    "* Power spectral density of a channel, segment, ...\n",
    "* Time-frequency analyses\n",
    "* Instantaneous phase and power:\n",
    "  * => Phase-amplitude coupling\n",
    "  * => Phase coherence\n",
    "* Measures of coherence/connectivity (in the time-domain, in the spectral domain)\n",
    "  * => network analyses\n",
    "* Measures of signal complexity\n",
    "* Distinct events:\n",
    "  * High-frequency oscillation bursts\n",
    "  * Single neuornal spikes\n",
    "* ...  \n",
    "\n",
    "Here, we can only touch a few features."
   ]
  },
  {
   "cell_type": "markdown",
   "id": "1b496bbd-d898-47cb-b5c5-b7cefe6900d0",
   "metadata": {},
   "source": [
    "## Power spectral density (PSD)\n",
    "* A time-series can be described as a sum of oscillations of different frequencies that all have different amplitudes\n",
    "* Inspecting the different frequency contents (the amplitudes different frequencies have) can provide information about the source from which the signal is recorded.\n",
    " \n",
    "For examples, see previous practical"
   ]
  },
  {
   "cell_type": "markdown",
   "id": "0a1b4be1-72b3-4856-b841-ebb9e190418c",
   "metadata": {},
   "source": [
    "## Time-frequency analysis (TFA)"
   ]
  },
  {
   "cell_type": "markdown",
   "id": "e09df28e-9812-42db-bb1c-ffa285c36571",
   "metadata": {},
   "source": [
    "Definition: in time-frequency analyses, the signal in the time domain is transformed into the frequency domain for short subsegements of the original signal. This allows exploring how the spectral composition of the signal varies across time.\n",
    " \n",
    "Basic principle:\n",
    "* Cut the raw data into short (overlapping) segments\n",
    "* Transform each segment to the frequency domain => PSD\n",
    "* Assess how the spectral composition varies over time"
   ]
  },
  {
   "cell_type": "markdown",
   "id": "2f85293f-cef5-4ca7-9a59-6b7bbef2463e",
   "metadata": {},
   "source": [
    "### Example: synthetic data"
   ]
  },
  {
   "cell_type": "markdown",
   "id": "77a00609-be4e-4770-9871-e83735efb00a",
   "metadata": {},
   "source": [
    "Create an artificial signal:\n",
    "* Sampling rate: 1000 Hz\n",
    "* Duration: 5s\n",
    "* Background eeg activity: pink noise\n",
    "* 10 Hz sine wave burst from 2-3 seconds\n",
    "* Continuous 20 Hz oscillation\n",
    "* Chirp starting at 20 Hz with linare increase in frequency"
   ]
  },
  {
   "cell_type": "code",
   "execution_count": null,
   "id": "68a130bf-36ec-47e8-8315-d8cf9d6a507a",
   "metadata": {},
   "outputs": [],
   "source": [
    "#%% Create artificial data\n",
    "ieeg = {}\n",
    "ieeg['srate'] = 1000\n",
    "ieeg['dur']  = 5\n",
    "ieeg['time'] = np.arange(0,ieeg['dur']*ieeg['srate'])/ieeg['srate']\n",
    "\n",
    "ieeg['data'] = []\n",
    "ieeg['type'] = []\n",
    "\n",
    "# add some pink-noise\n",
    "ieeg['type'].append('ieeg')\n",
    "ieeg['data'].append(acoustics.generator.noise(\n",
    "    N=len(ieeg['time']),        # 10`000 samples\n",
    "    color='pink',  \n",
    "    state=np.random.RandomState(seed=2022) # seed for random numbers generator\n",
    "    ))\n",
    "\n",
    "# add 10 Hz sine wave burst\n",
    "ieeg['data'][0][\n",
    "    (ieeg['time']>2) & (ieeg['time']<3)] = \\\n",
    "    ieeg['data'][0][(ieeg['time']>2) & (ieeg['time']<3)] +\\\n",
    "    5*np.sin(ieeg['time'][(ieeg['time']>2) & (ieeg['time']<3)]*2*np.pi*10)\n",
    "\n",
    "# add 20 Hz fixed wave\n",
    "ieeg['data'][0] = ieeg['data'][0] + 2*np.sin(ieeg['time']*2*np.pi*20)\n",
    "\n",
    "\n",
    "# add a chirp that linearly increases with frequency\n",
    "ieeg['data'][0] = ieeg['data'][0] + 2*np.sin(ieeg['time']*2*np.pi*(20+2*ieeg['time']))\n"
   ]
  },
  {
   "cell_type": "markdown",
   "id": "129ecd0a-a15d-4a54-93d9-729babe6fb13",
   "metadata": {},
   "source": [
    "Plot the artificial signal"
   ]
  },
  {
   "cell_type": "code",
   "execution_count": null,
   "id": "12bffcd7-8189-4442-8996-797c4bd42be9",
   "metadata": {},
   "outputs": [],
   "source": [
    "fig, ax = plt.subplots(figsize=(15,5))\n",
    "ax.plot(ieeg['time'],\n",
    "       ieeg['data'][0])\n",
    "\n",
    "\n",
    "ax.set_xlabel('Time (s)')\n",
    "ax.set_ylabel('Amplitude')\n",
    "ax.grid()"
   ]
  },
  {
   "cell_type": "markdown",
   "id": "bba3548e-39ee-421b-94a5-fcdf1f2d75e9",
   "metadata": {},
   "source": [
    "Perform the time-frequency decomposition:\n",
    "* Perform Morlet wavelet decomposition\n",
    "* Extract power for frequencies from 1 to 50 Hz at 1 Hz steps\n",
    "* Number of wavelet cycles per frequency: Frequency/2 (e.g. 0.5 cyles at 1 Hz, 25 cycles at 50 Hz)"
   ]
  },
  {
   "cell_type": "code",
   "execution_count": null,
   "id": "30c1d811-5409-445e-8be7-25ebac5e63f4",
   "metadata": {},
   "outputs": [],
   "source": [
    "# Decompose the signal\n",
    "ieeg['tfr_freqs'] = np.arange(1,50)         # Frequency resolution of the decomposition\n",
    "ieeg['tfr_ncycles'] = ieeg['tfr_freqs']/2   # Number of cycles (length of window) for which to compute the power at each frequency\n",
    "\n",
    "ieeg['tfr'] = mne.time_frequency.tfr_array_morlet(\n",
    "    epoch_data = ieeg['data'][0][np.newaxis,np.newaxis,:],\n",
    "    sfreq = ieeg['srate'],\n",
    "    freqs= ieeg['tfr_freqs'],\n",
    "    n_cycles=ieeg['tfr_ncycles'])"
   ]
  },
  {
   "cell_type": "markdown",
   "id": "44de4d90-0855-41c0-b702-3645f8cb670a",
   "metadata": {},
   "source": [
    "Plot the decomposition\n",
    "* all signal components become visible: 20 Hz continuous activity, 10 Hz burst, chirp with increasing frequency from 20 to 40 Hz"
   ]
  },
  {
   "cell_type": "code",
   "execution_count": null,
   "id": "eb7b0767-d0c6-47ce-ae79-ee66c4359879",
   "metadata": {},
   "outputs": [],
   "source": [
    "# Plot the decomosition\n",
    "fig, ax = plt.subplots(figsize= (15,5))\n",
    "\n",
    "img = ax.pcolormesh(\n",
    "    ieeg['time'],\n",
    "    ieeg['tfr_freqs'],\n",
    "    np.abs(np.squeeze(ieeg['tfr'])))\n",
    "\n",
    "ax.set_ylabel('Frequency (Hz)')\n",
    "ax.set_xlabel('Time (s)')\n",
    "\n",
    "cb = plt.colorbar(img, ax=ax)\n",
    "cb.set_label('Power')"
   ]
  },
  {
   "cell_type": "markdown",
   "id": "29125e28-e40f-46ca-8b15-b4cc8d62a264",
   "metadata": {},
   "source": [
    "ASSIGNMENT:\n",
    "* Explore what happens if the frequency resolution is increased/decreased\n",
    "* Explore what happens if the number of cycles is alters (e.g. fix numer of cycles for all frequencies)"
   ]
  },
  {
   "cell_type": "code",
   "execution_count": null,
   "id": "de763168-3474-4d78-beeb-39ac3ef65cd3",
   "metadata": {},
   "outputs": [],
   "source": [
    "# ASSIGNMENT:\n",
    "# => hint: modify the following elements of the above code:\n",
    "#   ieeg['tfr_freqs'] = ...\n",
    "#   ieeg['tfr_ncycles'] = ..."
   ]
  },
  {
   "cell_type": "markdown",
   "id": "a3751b0e-b206-4dd6-9c60-bef62b45fb59",
   "metadata": {
    "tags": []
   },
   "source": [
    "### Example: real data"
   ]
  },
  {
   "cell_type": "markdown",
   "id": "a220226e-439d-45e5-a513-9a574b7e85a4",
   "metadata": {},
   "source": [
    "Download intracranial eeg data from Fedele et al., 2017, Scientific Reports.\n",
    "* Data repository: https://openneuro.org/datasets/ds003498/versions/1.0.1\n",
    "* Original publication: *Fedele T, Burnos S, Boran E, Krayenbühl N, Hilfiker P, Grunwald T, Sarnthein J. Resection of high frequency oscillations predicts seizure outcome in the individual patient. Scientific Reports. 2017;7(1):13836. https://www.nature.com/articles/s41598-017-13064-1 doi:10.1038/s41598-017-13064-1*\n",
    "\n",
    "Use MNE to process the data:\n",
    "* https://mne.tools/stable/index.html"
   ]
  },
  {
   "cell_type": "code",
   "execution_count": null,
   "id": "2a2eca0f-4bda-4f29-bb88-e349673012fb",
   "metadata": {},
   "outputs": [],
   "source": [
    "import requests\n",
    "\n",
    "\n",
    "# Dataset: events\n",
    "url = \"https://openneuro.org/crn/datasets/ds003498/snapshots/1.0.1/files/sub-01:ses-interictalsleep:ieeg:sub-01_ses-interictalsleep_run-01_events.tsv\"\n",
    "r = requests.get(url, allow_redirects=True)\n",
    "open('sub-01_ses-interictalsleep_run-01_events.tsv', 'wb').write(r.content)\n",
    "\n",
    "\n",
    "# Dataset: channel info\n",
    "url = \"https://openneuro.org/crn/datasets/ds003498/snapshots/1.0.1/files/sub-01:ses-interictalsleep:ieeg:sub-01_ses-interictalsleep_run-01_channels.tsv\"\n",
    "r = requests.get(url, allow_redirects=True)\n",
    "open('sub-01_ses-interictalsleep_run-01_channels.tsv', 'wb').write(r.content)\n",
    "\n",
    "\n",
    "# Dataset: header\n",
    "url = \"https://openneuro.org/crn/datasets/ds003498/snapshots/1.0.1/files/sub-01:ses-interictalsleep:ieeg:sub-01_ses-interictalsleep_run-01_ieeg.vhdr\"\n",
    "r = requests.get(url, allow_redirects=True)\n",
    "open('sub-01_ses-interictalsleep_run-01_ieeg.vhdr', 'wb').write(r.content)\n",
    "\n",
    "# Dataset: marker\n",
    "url = \"https://openneuro.org/crn/datasets/ds003498/snapshots/1.0.1/files/sub-01:ses-interictalsleep:ieeg:sub-01_ses-interictalsleep_run-01_ieeg.vmrk\"\n",
    "r = requests.get(url, allow_redirects=True)\n",
    "open('sub-01_ses-interictalsleep_run-01_ieeg.vmrk', 'wb').write(r.content)\n",
    "\n",
    "# Dataset: eeg\n",
    "url = \"https://openneuro.org/crn/datasets/ds003498/snapshots/1.0.1/files/sub-01:ses-interictalsleep:ieeg:sub-01_ses-interictalsleep_run-01_ieeg.eeg\"\n",
    "r = requests.get(url, allow_redirects=True)\n",
    "open('sub-01_ses-interictalsleep_run-01_ieeg.eeg', 'wb').write(r.content)\n",
    "\n"
   ]
  },
  {
   "cell_type": "markdown",
   "id": "f4acd8e5-c52f-4881-8ab9-e272c9a1d052",
   "metadata": {},
   "source": [
    "Import the data using mne:"
   ]
  },
  {
   "cell_type": "code",
   "execution_count": null,
   "id": "3d1f66fe-2589-4f48-8c40-b4f4426f8bd2",
   "metadata": {},
   "outputs": [],
   "source": [
    "ieeg = mne.io.read_raw_brainvision('sub-01_ses-interictalsleep_run-01_ieeg.vhdr',preload=True)\n",
    "ieeg.annotations.crop(0,0)\n",
    "ieeg.info"
   ]
  },
  {
   "cell_type": "markdown",
   "id": "17fb0e9c-729f-4319-b4ba-fce08771433b",
   "metadata": {},
   "source": [
    "Plot first 10 s of raw data of all channels"
   ]
  },
  {
   "cell_type": "code",
   "execution_count": null,
   "id": "669c4d76-bce0-4ca8-b85b-c62294a161ee",
   "metadata": {},
   "outputs": [],
   "source": [
    "# set browser backend to matplotlib => no popup\n",
    "mne.viz.set_browser_backend('matplotlib')"
   ]
  },
  {
   "cell_type": "code",
   "execution_count": null,
   "id": "1d72f952-d19b-45c0-bfb3-d6d62ef89595",
   "metadata": {},
   "outputs": [],
   "source": [
    "# Plot data\n",
    "fig = mne.viz.plot_raw(\n",
    "    ieeg,\n",
    "    duration=10.0,\n",
    "    start=0.0,\n",
    "    n_channels=50,\n",
    "    show=False,\n",
    "    scalings={'eeg':0.0001})\n",
    "\n",
    "fig.set_size_inches(15,10)"
   ]
  },
  {
   "cell_type": "markdown",
   "id": "075d5044-d44b-4dc7-8587-da0e804b0daa",
   "metadata": {},
   "source": [
    "Keep only data from macroelectrodes targeting the left amydgala (AL1-8)"
   ]
  },
  {
   "cell_type": "code",
   "execution_count": null,
   "id": "72900650-4dee-4426-a191-5e7cccedb732",
   "metadata": {},
   "outputs": [],
   "source": [
    "ieeg_AL = ieeg.copy().pick_channels(['AL1','AL2','AL3','AL4','AL5','AL6','AL7','AL8'])"
   ]
  },
  {
   "cell_type": "markdown",
   "id": "db4615bb-fdc1-4cec-ab66-f5a25541cf29",
   "metadata": {},
   "source": [
    "Drop channel \"AL8\":"
   ]
  },
  {
   "cell_type": "code",
   "execution_count": null,
   "id": "dea541b4-c1a1-4738-aadc-911a3bb4736c",
   "metadata": {},
   "outputs": [],
   "source": [
    "ieeg_AL.drop_channels('AL8')"
   ]
  },
  {
   "cell_type": "markdown",
   "id": "b0aed7a6-9087-4112-b8f6-8f3818d40581",
   "metadata": {},
   "source": [
    "Re-reference the EEG to the common average of all channels:\n",
    "* Compute the mean of all channels at each sample\n",
    "* Subtract this mean from each single channel at each sampel\n",
    "* => this removes the shared information from all channels (shared information: most likely noise)"
   ]
  },
  {
   "cell_type": "code",
   "execution_count": null,
   "id": "06503771-4e8d-4f00-8912-d50be5039735",
   "metadata": {},
   "outputs": [],
   "source": [
    "ieeg_AL.set_eeg_reference(ref_channels='average')"
   ]
  },
  {
   "cell_type": "markdown",
   "id": "1ac19c1b-eaaa-4cc3-bf1c-e58554539f31",
   "metadata": {},
   "source": [
    "Plot re-referenced data from left amydgala"
   ]
  },
  {
   "cell_type": "code",
   "execution_count": null,
   "id": "775c53f7-50ab-43ae-83cb-b776ec44ff7c",
   "metadata": {},
   "outputs": [],
   "source": [
    "# Plot data\n",
    "fig = mne.viz.plot_raw(\n",
    "    ieeg_AL,\n",
    "    duration=10.0,\n",
    "    start=0.0,\n",
    "    n_channels=50,\n",
    "    show=False,\n",
    "    scalings={'eeg':0.0001})\n",
    "fig.set_size_inches(15,10)"
   ]
  },
  {
   "cell_type": "markdown",
   "id": "47fae2f2-eb1e-4555-80f0-a8e82a8b9f17",
   "metadata": {},
   "source": [
    "Plot PSD for rereferenced data from left amygdala"
   ]
  },
  {
   "cell_type": "code",
   "execution_count": null,
   "id": "3756f716-1683-40d8-9c60-8e350e08cdad",
   "metadata": {},
   "outputs": [],
   "source": [
    "fig = ieeg_AL.plot_psd(\n",
    "    n_fft = int(2*ieeg_AL.info.get('sfreq')),          # => length of segments: 2* sampling frequency\n",
    "    n_overlap = int(0.9*2*ieeg_AL.info.get('sfreq')),   # => overlap of segments: 0.9 (90%) of 2s windows\n",
    "    show=False\n",
    ")\n",
    "fig.set_size_inches(15,5)"
   ]
  },
  {
   "cell_type": "markdown",
   "id": "57c6134f-7dfd-4813-8f4c-c6d14de79c77",
   "metadata": {},
   "source": [
    "Subset data:\n",
    "* Keep only electrode AL1\n",
    "* Keep only short window of data"
   ]
  },
  {
   "cell_type": "code",
   "execution_count": null,
   "id": "88d870ff-c34e-4b65-8653-c91ca0067637",
   "metadata": {},
   "outputs": [],
   "source": [
    "ieeg_AL1_window = ieeg_AL.copy().pick_channels(['AL1']).crop(30,60)"
   ]
  },
  {
   "cell_type": "markdown",
   "id": "8e43089d-3228-4116-9d45-70a023f10bf6",
   "metadata": {},
   "source": [
    "Perform the time-frequency decomposition on real data from Amydgala channel AL1:\n",
    "* Perform Morlet wavelet decomposition\n",
    "* Extract power for frequencies from 1 to 50 Hz at 1 Hz steps\n",
    "* Number of wavelet cycles per frequency: Frequency/2 (e.g. 0.5 cyles at 1 Hz, 25 cycles at 50 Hz)\n",
    "* Normalize the signal: subtract median in each frequency, divide by median absolute deviation (MAD)"
   ]
  },
  {
   "cell_type": "code",
   "execution_count": null,
   "id": "e2015aed-a24d-4014-a25e-7fd0142fdc06",
   "metadata": {},
   "outputs": [],
   "source": [
    "# Decompose the signal\n",
    "AL_dat = {}\n",
    "AL_dat['tfr_freqs'] = np.arange(1,80,0.5)         # Frequency resolution of the decomposition\n",
    "AL_dat['tfr_ncycles'] = AL_dat['tfr_freqs']/2   # Number of cycles (length of window) for which to compute the power at each frequency\n",
    "\n",
    "AL_dat['tfr'] = mne.time_frequency.tfr_array_morlet(\n",
    "    epoch_data = ieeg_AL1_window.get_data()[np.newaxis,:],\n",
    "    sfreq = ieeg_AL1_window.info.get('sfreq'),\n",
    "    freqs= AL_dat['tfr_freqs'],\n",
    "    n_cycles=AL_dat['tfr_ncycles'],\n",
    "    output='power')"
   ]
  },
  {
   "cell_type": "code",
   "execution_count": null,
   "id": "a6381402-4d6b-41db-b363-73d62de0f0ac",
   "metadata": {},
   "outputs": [],
   "source": [
    "# Normalize data\n",
    "AL_dat['tfr'] = np.squeeze(AL_dat['tfr'])\n",
    "#AL_dat['tfr'] = np.log10(np.squeeze(AL_dat['tfr']))\n",
    "AL_dat['tfr_mean'] = np.mean(AL_dat['tfr'],axis=1)\n",
    "AL_dat['tfr_std'] = np.std(AL_dat['tfr'],axis=1)\n",
    "\n",
    "AL_dat['tfr_stdnorm'] = (AL_dat['tfr']-AL_dat['tfr_mean'][:,None])/AL_dat['tfr_std'][:,None]\n",
    "\n",
    "AL_dat['tfr_md'] = np.median(AL_dat['tfr'],axis=1)\n",
    "AL_dat['tfr_mad'] = np.median(np.abs(AL_dat['tfr']-AL_dat['tfr_md'][:,None]),axis = 1)\n",
    "\n",
    "AL_dat['tfr_madnorm'] = (AL_dat['tfr']-AL_dat['tfr_md'][:,None])/AL_dat['tfr_mad'][:,None]\n"
   ]
  },
  {
   "cell_type": "markdown",
   "id": "7f66ad56-2d06-4dc4-bcf7-394f4a611eee",
   "metadata": {},
   "source": [
    "Plot the decomposition, compare it with the signal in the time domain"
   ]
  },
  {
   "cell_type": "code",
   "execution_count": null,
   "id": "5ae971de-ac8f-4802-9500-9a6a68103bc1",
   "metadata": {},
   "outputs": [],
   "source": [
    "# Plot the decomposition\n",
    "\n",
    "from mpl_toolkits.axes_grid1.inset_locator import inset_axes\n",
    "\n",
    "fig, ax = plt.subplots(nrows = 2, sharex=True, figsize= (15,5))\n",
    "\n",
    "img = ax[0].pcolormesh(\n",
    "    ieeg_AL1_window.times,\n",
    "    AL_dat['tfr_freqs'],\n",
    "    np.squeeze(AL_dat['tfr_stdnorm']),\n",
    "    vmin=-2,\n",
    "    vmax=2)\n",
    "\n",
    "\n",
    "ax[0].set_ylabel('Frequency (Hz)')\n",
    "\n",
    "axins = inset_axes(ax[0],\n",
    "                    width=\"5%\", \n",
    "                    height=\"50%\",\n",
    "                    loc='upper right')\n",
    "\n",
    "\n",
    "cb = plt.colorbar(img, cax=axins)\n",
    "cb.set_label('Power')\n",
    "\n",
    "ax[1].plot(ieeg_AL1_window.times,ieeg_AL1_window.get_data().T)\n",
    "\n",
    "ax[1].set_ylabel('Amplitude')\n",
    "ax[1].set_xlabel('Time (s)')"
   ]
  },
  {
   "cell_type": "markdown",
   "id": "46d96676-47c9-4fe5-9853-a3835c16cba6",
   "metadata": {},
   "source": [
    "Assignment: change plot to focus on shorter window and smaller frequency band (e.g. 0-5s, 0-20 Hz)"
   ]
  },
  {
   "cell_type": "code",
   "execution_count": null,
   "id": "9bba4f56-e6b9-47dd-8350-7507eda1a0b8",
   "metadata": {},
   "outputs": [],
   "source": [
    "#Assignment hint: use ax[0].set_xlim() amd ax[0].set_ylim()\n"
   ]
  },
  {
   "cell_type": "markdown",
   "id": "59313547-7842-4104-a3e9-7418a56f635a",
   "metadata": {},
   "source": [
    "## Instantaneous power, phase, (frequency)"
   ]
  },
  {
   "cell_type": "markdown",
   "id": "03a54f9d-ab2f-496c-a3bb-5dde5ee9bc3d",
   "metadata": {},
   "source": [
    "Definition: Analysis of the time-resolved (i.e., instantaneous) power and phase of a signal in a specific frequency band. \n",
    " \n",
    "Possible aplications:\n",
    "* Assess power fluctuations in a specific frequency range => e.g. is how does beta (20 Hz) power in the motor cortex change during a motor task?\n",
    "* Assess the specific phase of the signal at a given time => e.g. \n",
    "* Assess coherence / connectivity between different channels and or frequencies:\n",
    "    * e.g. does activity (phase) in the delta band (< 4 Hz) modulate activity in the sigma band (12-16 Hz)?\n",
    "    * does the connectivity between two brain signals increase? assess signal coherence in the beta range (coherence between beta phase values, correlation between amplitudes, ...)?"
   ]
  },
  {
   "cell_type": "markdown",
   "id": "98de2a3c-5b48-4145-a709-4c8c0c700484",
   "metadata": {},
   "source": [
    "### Example"
   ]
  },
  {
   "cell_type": "markdown",
   "id": "65b2d945-d8ca-4a43-93dd-d05fac791795",
   "metadata": {},
   "source": [
    "Create an artificial signal:\n",
    "* Sampling rate: 1000 Hz\n",
    "* Duration: 5s\n",
    "* Background eeg activity: pink noise\n",
    "* 10 Hz sine wave burst from 2-3 seconds\n",
    "* Continuous 2 Hz oscillation\n",
    "* 20 Hz oscillatoin that is modulated by 2 Hz oscillation\n",
    "\n"
   ]
  },
  {
   "cell_type": "code",
   "execution_count": null,
   "id": "e55b2414-f8f9-42e3-8e51-4eff8f0892ff",
   "metadata": {},
   "outputs": [],
   "source": [
    "#%% Create artificial data\n",
    "ieeg = {}\n",
    "ieeg['srate'] = 1000\n",
    "ieeg['dur']  = 5\n",
    "ieeg['time'] = np.arange(0,ieeg['dur']*ieeg['srate'])/ieeg['srate']\n",
    "\n",
    "ieeg['data'] = []\n",
    "ieeg['type'] = []\n",
    "\n",
    "# add some pink-noise\n",
    "ieeg['type'].append('ieeg')\n",
    "ieeg['data'].append(acoustics.generator.noise(\n",
    "    N=len(ieeg['time']),        # 10`000 samples\n",
    "    color='pink',  \n",
    "    state=np.random.RandomState(seed=2022) # seed for random numbers generator\n",
    "    ))\n",
    "\n",
    "# add 10 Hz sine wave burst\n",
    "ieeg['data'][0][\n",
    "    (ieeg['time']>2) & (ieeg['time']<3)] = \\\n",
    "    ieeg['data'][0][(ieeg['time']>2) & (ieeg['time']<3)] +\\\n",
    "    5*np.sin(ieeg['time'][(ieeg['time']>2) & (ieeg['time']<3)]*2*np.pi*10)\n",
    "\n",
    "# add 4 Hz fixed wave\n",
    "ieeg['data'][0] = ieeg['data'][0] + 2*np.sin(ieeg['time']*2*np.pi*2)\n",
    "\n",
    "\n",
    "# add a chirp that linearly increases with frequency\n",
    "ieeg['data'][0] = ieeg['data'][0] + 2*np.sin(ieeg['time']*2*np.pi*20)*(1+np.sin(ieeg['time']*2*np.pi*2))\n"
   ]
  },
  {
   "cell_type": "markdown",
   "id": "b610676f-9e2a-4085-84c6-bb0d11a7414c",
   "metadata": {},
   "source": [
    "Plot the artificial signal"
   ]
  },
  {
   "cell_type": "code",
   "execution_count": null,
   "id": "4a01bdf5-6523-4bb8-afdb-e45989fb0fdb",
   "metadata": {},
   "outputs": [],
   "source": [
    "fig, ax = plt.subplots(figsize=(15,5))\n",
    "ax.plot(ieeg['time'],\n",
    "       ieeg['data'][0])\n",
    "\n",
    "\n",
    "ax.set_xlabel('Time (s)')\n",
    "ax.set_ylabel('Amplitude')\n",
    "ax.grid()"
   ]
  },
  {
   "cell_type": "markdown",
   "id": "a1b52905-f6bf-416a-bb5a-9b60ed152273",
   "metadata": {},
   "source": [
    "Perform the time-frequency decomposition:\n",
    "* Perform Morlet wavelet decomposition\n",
    "* Number of wavelet cycles per frequency: Frequency/2 \n",
    "* Extract power for frequencies from 1 to 50 Hz at 1 Hz steps"
   ]
  },
  {
   "cell_type": "code",
   "execution_count": null,
   "id": "bf52cf3b-5fbb-4a4b-b4be-86f236fa4358",
   "metadata": {},
   "outputs": [],
   "source": [
    "# Decompose the signal\n",
    "ieeg['tfr_freqs'] = np.arange(1,50)         # Frequency resolution of the decomposition\n",
    "ieeg['tfr_ncycles'] = ieeg['tfr_freqs']/2   # Number of cycles (length of window) for which to compute the power at each frequency\n",
    "\n",
    "ieeg['tfr'] = mne.time_frequency.tfr_array_morlet(\n",
    "    epoch_data = ieeg['data'][0][np.newaxis,np.newaxis,:],\n",
    "    sfreq = ieeg['srate'],\n",
    "    freqs= ieeg['tfr_freqs'],\n",
    "    n_cycles=ieeg['tfr_ncycles'])"
   ]
  },
  {
   "cell_type": "markdown",
   "id": "257d7e7e-06d6-4add-9ad5-bf9c43b1df6f",
   "metadata": {},
   "source": [
    "Plot the decomposition"
   ]
  },
  {
   "cell_type": "code",
   "execution_count": null,
   "id": "45c396d1-de7c-49ec-a35d-1c8517709943",
   "metadata": {},
   "outputs": [],
   "source": [
    "# Plot the decomosition\n",
    "fig, ax = plt.subplots(figsize= (15,5))\n",
    "\n",
    "img = ax.pcolormesh(\n",
    "    ieeg['time'],\n",
    "    ieeg['tfr_freqs'],\n",
    "    np.abs(np.squeeze(ieeg['tfr'])))\n",
    "\n",
    "ax.set_ylabel('Frequency (Hz)')\n",
    "ax.set_xlabel('Time (s)')\n",
    "\n",
    "cb = plt.colorbar(img, ax=ax)\n",
    "cb.set_label('Power')"
   ]
  },
  {
   "cell_type": "markdown",
   "id": "464f711c-0ea1-4975-b29e-26eaefc4f220",
   "metadata": {},
   "source": [
    "Pefrorm the hilbert transform for 20 Hz oscillations:\n",
    "* Bandpass filter between 18-22 Hz\n",
    "* Get the hilbert transform"
   ]
  },
  {
   "cell_type": "code",
   "execution_count": null,
   "id": "4a971b5d-bca2-495b-bc56-52c542d15c68",
   "metadata": {},
   "outputs": [],
   "source": [
    "#%% Hilbert decomposition\n",
    "sgn_raw     = ieeg['data'][0]\n",
    "sgn_filt    = mne.filter.filter_data(sgn_raw,\n",
    "                           sfreq=ieeg['srate'],\n",
    "                           l_freq = 18,\n",
    "                           h_freq = 22)\n",
    "\n",
    "sgn_hilb20   = sc.signal.hilbert(x=sgn_filt)"
   ]
  },
  {
   "cell_type": "markdown",
   "id": "6b4f4ff8-3646-44e0-a5e7-1b8f75e44ba8",
   "metadata": {},
   "source": [
    "Plot the hilbert transform"
   ]
  },
  {
   "cell_type": "code",
   "execution_count": null,
   "id": "0f27e14b-2c92-4350-9306-32328256d2ca",
   "metadata": {},
   "outputs": [],
   "source": [
    "fig, ax = plt.subplots(nrows = 2,figsize=(15,10))\n",
    "\n",
    "ax[0].plot(ieeg['time'],sgn_raw, label='raw')\n",
    "ax[0].plot(ieeg['time'],sgn_filt,label='bandpass filtered')\n",
    "ax[0].plot(ieeg['time'],np.abs(sgn_hilb20),label='hilbert envelope',color='g')\n",
    "ax[0].legend()\n",
    "ax[0].grid()\n",
    "\n",
    "\n",
    "ax[1].set_ylabel('Amplitude')\n",
    "ax[1].plot(ieeg['time'],np.angle(sgn_hilb20),color='g')\n",
    "ax[1].set_ylabel('Phase')\n",
    "ax[1].grid()"
   ]
  },
  {
   "cell_type": "markdown",
   "id": "eb152a14-c050-4110-aa29-3a5f719f44d3",
   "metadata": {},
   "source": [
    "Pefrorm the hilbert transform for 2 Hz oscillations:\n",
    "* Bandpass filter between 1-3 Hz\n",
    "* Get the hilbert transform"
   ]
  },
  {
   "cell_type": "code",
   "execution_count": null,
   "id": "e540ccf4-fddf-434f-be2f-5d4219ab5e1b",
   "metadata": {},
   "outputs": [],
   "source": [
    "#%% Hilbert decomposition\n",
    "sgn_raw     = ieeg['data'][0]\n",
    "sgn_filt    = mne.filter.filter_data(sgn_raw,\n",
    "                           sfreq=ieeg['srate'],\n",
    "                           l_freq = 1,\n",
    "                           h_freq = 3)\n",
    "\n",
    "sgn_hilb2   = sc.signal.hilbert(x=sgn_filt)"
   ]
  },
  {
   "cell_type": "markdown",
   "id": "0ee7276e-ef1e-4dbd-a173-8191f81c5fd9",
   "metadata": {},
   "source": [
    "Plot the hilbert transform"
   ]
  },
  {
   "cell_type": "code",
   "execution_count": null,
   "id": "202d2ed2-be3d-4a39-896d-8e7906a8889e",
   "metadata": {},
   "outputs": [],
   "source": [
    "fig, ax = plt.subplots(nrows = 2,figsize=(15,10))\n",
    "\n",
    "ax[0].plot(ieeg['time'],sgn_raw, label='raw')\n",
    "ax[0].plot(ieeg['time'],sgn_filt,label='bandpass filtered')\n",
    "ax[0].plot(ieeg['time'],np.abs(sgn_hilb2),label='hilbert envelope',color='g')\n",
    "ax[0].legend()\n",
    "ax[0].grid()\n",
    "\n",
    "\n",
    "ax[1].set_ylabel('Amplitude')\n",
    "ax[1].plot(ieeg['time'],np.angle(sgn_hilb2),color='g')\n",
    "ax[1].set_ylabel('Phase')\n",
    "ax[1].grid()"
   ]
  },
  {
   "cell_type": "markdown",
   "id": "99488b16-cb53-44f8-82c4-cf3667052e5f",
   "metadata": {
    "tags": []
   },
   "source": [
    "## Phase-amplitude coupling\n",
    "Phase amplitude-coupling describes the phenomenon that the activity (amplitude) of a higher frequency (e.g. 20 Hz) is coupled to a specific phase (e.g. the peak) of a lower freqeuency oscillation (e.g. 2 Hz). The phase of a low frequency oscillation thus appears to modulate the amplitude of a high-frequency oscillation.\n",
    "\n",
    "Relevance (see Munia & Aviyente, 2019;  https://doi.org/10.1038/s41598-019-48870-2):\n",
    "* *\"Various forms of neural synchrony between oscillations across different frequency bands have been suggested as the major mechanism of neural integration.\"* \n",
    "* *\"Previous studies based on electrophysiological measurement of neural activity suggest that different frequency bands are responsible for distinct computational roles as oscillations are thought to create synchronization across specialized brain regions to corroborate cognitive processing.\"*\n",
    "* *\"The power and/or the synchronization measured across different frequency bands have been related to various cognitive and neuronal functions.\"*\n",
    "\n",
    "\n",
    "Further reading:\n",
    "* Different measures of PAC: *Combrisson, E., Nest, T., Brovelli, A., Ince, R. A. A., Soto, J. L. P., Guillot, A., & Jerbi, K. (2020). Tensorpac: An open-source Python toolbox for tensor-based phase-amplitude coupling measurement in electrophysiological brain signals. PLOS Computational Biology, 16(10), e1008302. https://doi.org/10.1371/journal.pcbi.1008302*\n",
    "* On the relevance of PAC: *Munia, T. T. K., & Aviyente, S. (2019). Time-frequency based phase-amplitude coupling measure for neuronal oscillations. Scientific Reports, 9(1), 12441. https://doi.org/10.1038/s41598-019-48870-2* "
   ]
  },
  {
   "cell_type": "markdown",
   "id": "1ad7fdeb-2537-4b83-a5c6-fa30fe8ff01a",
   "metadata": {},
   "source": [
    "### Example"
   ]
  },
  {
   "cell_type": "markdown",
   "id": "98de1c62-da25-4a99-9964-5576af0474d4",
   "metadata": {},
   "source": [
    "Create an artificial signal:\n",
    "* Sampling rate: 1000 Hz\n",
    "* Duration: 5s\n",
    "* Background eeg activity: pink noise\n",
    "* 10 Hz sine wave burst from 2-3 seconds\n",
    "* Continuous 2 Hz oscillation\n",
    "* 20 Hz oscillation that is modulated by 2 Hz oscillation => coupling between 2 Hz phase and 20 Hz amplitude\n"
   ]
  },
  {
   "cell_type": "code",
   "execution_count": null,
   "id": "8efe4625-e0d3-4d3f-a356-cc340d85b05a",
   "metadata": {},
   "outputs": [],
   "source": [
    "#%% Create artificial data\n",
    "ieeg = {}\n",
    "ieeg['srate'] = 1000\n",
    "ieeg['dur']  = 5\n",
    "ieeg['time'] = np.arange(0,ieeg['dur']*ieeg['srate'])/ieeg['srate']\n",
    "\n",
    "ieeg['data'] = []\n",
    "ieeg['type'] = []\n",
    "\n",
    "# add some pink-noise\n",
    "ieeg['type'].append('ieeg')\n",
    "ieeg['data'].append(acoustics.generator.noise(\n",
    "    N=len(ieeg['time']),        # 10`000 samples\n",
    "    color='pink',  \n",
    "    state=np.random.RandomState(seed=2022) # seed for random numbers generator\n",
    "    ))\n",
    "\n",
    "# add 10 Hz sine wave burst\n",
    "ieeg['data'][0][\n",
    "    (ieeg['time']>2) & (ieeg['time']<3)] = \\\n",
    "    ieeg['data'][0][(ieeg['time']>2) & (ieeg['time']<3)] +\\\n",
    "    5*np.sin(ieeg['time'][(ieeg['time']>2) & (ieeg['time']<3)]*2*np.pi*10)\n",
    "\n",
    "# add 2 Hz fixed wave\n",
    "ieeg['data'][0] = ieeg['data'][0] + 2*np.sin(ieeg['time']*2*np.pi*2)\n",
    "\n",
    "\n",
    "# Add a 20 Hz oscillation that is modulated by the phase of the 2 Hz oscillation\n",
    "ieeg['data'][0] = (ieeg['data'][0] +                    # current data\n",
    "                   2*np.sin(ieeg['time']*2*np.pi*20)*   # 20 Hz sine wave\n",
    "                   (1+np.sin(ieeg['time']*2*np.pi*2)))  # Multiplied by amplitude of 2 Hz sine wave\n"
   ]
  },
  {
   "cell_type": "markdown",
   "id": "1c5ffadb-218b-4d86-a271-1121cf56611d",
   "metadata": {},
   "source": [
    "Plot the artificial signal"
   ]
  },
  {
   "cell_type": "code",
   "execution_count": null,
   "id": "71b69d65-ffed-43bd-8d3c-d3e7f7532451",
   "metadata": {},
   "outputs": [],
   "source": [
    "fig, ax = plt.subplots(figsize=(15,5))\n",
    "ax.plot(ieeg['time'],\n",
    "       ieeg['data'][0])\n",
    "\n",
    "\n",
    "ax.set_xlabel('Time (s)')\n",
    "ax.set_ylabel('Amplitude')\n",
    "ax.grid()"
   ]
  },
  {
   "cell_type": "markdown",
   "id": "669b3789-2771-4c74-8ee2-15501f60061b",
   "metadata": {},
   "source": [
    "Perform the hilbert transform for the 20 Hz, 2 Hz, and 10 Hz band"
   ]
  },
  {
   "cell_type": "code",
   "execution_count": null,
   "id": "6c132362-9fff-4375-812c-a6c3ad73c633",
   "metadata": {},
   "outputs": [],
   "source": [
    "#%% Hilbert decomposition\n",
    "sgn_raw     = ieeg['data'][0]\n",
    "\n",
    "sgn_filt20    = mne.filter.filter_data(sgn_raw,\n",
    "                           sfreq=ieeg['srate'],\n",
    "                           l_freq = 18,\n",
    "                           h_freq = 22)\n",
    "\n",
    "sgn_hilb20   = sc.signal.hilbert(x=sgn_filt20)\n",
    "\n",
    "sgn_filt2    = mne.filter.filter_data(sgn_raw,\n",
    "                           sfreq=ieeg['srate'],\n",
    "                           l_freq = 1,\n",
    "                           h_freq = 3)\n",
    "\n",
    "sgn_hilb2   = sc.signal.hilbert(x=sgn_filt2)\n",
    "\n",
    "sgn_filt10    = mne.filter.filter_data(sgn_raw,\n",
    "                           sfreq=ieeg['srate'],\n",
    "                           l_freq = 8,\n",
    "                           h_freq = 12)\n",
    "\n",
    "sgn_hilb10   = sc.signal.hilbert(x=sgn_filt10)\n"
   ]
  },
  {
   "cell_type": "markdown",
   "id": "3ce1fe65-6613-43df-891a-54330096ecde",
   "metadata": {},
   "source": [
    "Plot the raw signal, the filtered signal, and the envelopes"
   ]
  },
  {
   "cell_type": "code",
   "execution_count": null,
   "id": "7889c318-593f-4379-af92-30206f0aca14",
   "metadata": {},
   "outputs": [],
   "source": [
    "fig, ax = plt.subplots(nrows=3, ncols= 1, figsize=(15,15))\n",
    "ax[0].plot(ieeg['time'],sgn_raw, label='raw')\n",
    "ax[0].plot(ieeg['time'],sgn_filt2,label='bandpass filtered')\n",
    "ax[0].plot(ieeg['time'],np.abs(sgn_hilb2),label='hilbert envelope',color='g')\n",
    "ax[0].legend()\n",
    "ax[0].grid()\n",
    "ax[0].set_title('2 Hz oscillation')\n",
    "\n",
    "ax[1].plot(ieeg['time'],sgn_raw, label='raw')\n",
    "ax[1].plot(ieeg['time'],sgn_filt10,label='bandpass filtered')\n",
    "ax[1].plot(ieeg['time'],np.abs(sgn_hilb10),label='hilbert envelope',color='g')\n",
    "ax[1].legend()\n",
    "ax[1].grid()\n",
    "ax[1].set_title('10 Hz oscillation')\n",
    "\n",
    "\n",
    "\n",
    "ax[2].plot(ieeg['time'],sgn_raw, label='raw')\n",
    "ax[2].plot(ieeg['time'],sgn_filt20,label='bandpass filtered')\n",
    "ax[2].plot(ieeg['time'],np.abs(sgn_hilb20),label='hilbert envelope',color='g')\n",
    "ax[2].legend()\n",
    "ax[2].grid()\n",
    "ax[2].set_title('20 Hz oscillation')\n",
    "\n",
    "fig.tight_layout()"
   ]
  },
  {
   "cell_type": "markdown",
   "id": "422832d0-ef16-4fd8-8755-1d274bd5b796",
   "metadata": {},
   "source": [
    "Assess how activity at 10 Hz and 20 Hz is coupled to the 2 Hz phase\n",
    "* Bandpasss filter the signal in the respective frequency bans\n",
    "* Extract the instantaneous 2 Hz phase angles and 10 Hz and 20 Hz amplitude for each samples\n",
    "* Assess the coupling between the 2 Hz phase angles and the 10/20 Hz values"
   ]
  },
  {
   "cell_type": "markdown",
   "id": "ca3f108a-4ef0-4c33-877a-dc2face919bd",
   "metadata": {},
   "source": [
    "Make a data frame with the amplitude values at 10 Hz and 20 Hz and the phase angles at 2 Hz for each sample:"
   ]
  },
  {
   "cell_type": "code",
   "execution_count": null,
   "id": "3729977f-69cd-48c3-82ba-adb7ad559f27",
   "metadata": {},
   "outputs": [],
   "source": [
    "phase_amp_data = pd.DataFrame(\n",
    "    {\n",
    "        'phase2Hz': np.angle(sgn_hilb2),\n",
    "        'amp20Hz':np.abs(sgn_hilb20),\n",
    "        'amp10Hz':np.abs(sgn_hilb10)}\n",
    ")"
   ]
  },
  {
   "cell_type": "markdown",
   "id": "85eabaa5-3809-45fd-890b-168720e40728",
   "metadata": {},
   "source": [
    "Group the phase angles into 24 equally sized bins"
   ]
  },
  {
   "cell_type": "code",
   "execution_count": null,
   "id": "bc757b73-5681-4d16-b894-2b14ee023427",
   "metadata": {},
   "outputs": [],
   "source": [
    "phase_amp_data['phase2Hz_bin'] = pd.cut(phase_amp_data['phase2Hz'],24)\n",
    "phase_amp_data['phase2Hz_bincentres'] = phase_amp_data['phase2Hz_bin'].apply(lambda x: x.mid)\n",
    "phase_amp_data"
   ]
  },
  {
   "cell_type": "markdown",
   "id": "d35ae5a7-5778-4a11-8cd2-991f5fd8610b",
   "metadata": {},
   "source": [
    "Compute the mean amplitudes at 10 Hz and 20 Hz for each 2 Hz bin. Normalize the amplitudes in each bin by the sum of of the amplitudes from all bins."
   ]
  },
  {
   "cell_type": "code",
   "execution_count": null,
   "id": "fcc4c6ab-7325-4755-9899-c1bf2799a3a8",
   "metadata": {},
   "outputs": [],
   "source": [
    "phase_amp_data_aggr = phase_amp_data.groupby('phase2Hz_bincentres').mean().reset_index()\n",
    "phase_amp_data_aggr['amp10Hz']= phase_amp_data_aggr['amp10Hz']/sum(phase_amp_data_aggr['amp10Hz'])\n",
    "phase_amp_data_aggr['amp20Hz']= phase_amp_data_aggr['amp20Hz']/sum(phase_amp_data_aggr['amp20Hz'])\n",
    "phase_amp_data_aggr\n",
    "\n"
   ]
  },
  {
   "cell_type": "markdown",
   "id": "f06148a6-c8b3-435d-ae28-478196012ea0",
   "metadata": {},
   "source": [
    "Quantify phase amplitude coupling:\n",
    "* If the 2 Hz oscillation modulates the amplitude of the high-frequency oscillation, high-frequency amplitudes should be significantly higher in specific phase bins of the 2 Hz oscillation\n",
    "* This bias towards a phase can be expressed as \"MODULATION INDEX\": the amplitude of the mean vector computed over all phases and their amplitudes. "
   ]
  },
  {
   "cell_type": "markdown",
   "id": "2d8edaa8-e5fc-40d4-96a2-591ec62f4df0",
   "metadata": {},
   "source": [
    "Compute the mean vector as complex number:"
   ]
  },
  {
   "cell_type": "code",
   "execution_count": null,
   "id": "54fed3e9-cfc1-459e-b6a7-1a05b4cd25ad",
   "metadata": {},
   "outputs": [],
   "source": [
    "MI_2hzX10Hz = np.mean(\n",
    "    phase_amp_data_aggr['amp10Hz'].to_numpy()*np.exp(1j*phase_amp_data_aggr['phase2Hz_bincentres'].to_numpy()))\n",
    "\n",
    "MI_2hzX20Hz = np.mean(\n",
    "    phase_amp_data_aggr['amp20Hz'].to_numpy()*np.exp(1j*phase_amp_data_aggr['phase2Hz_bincentres'].to_numpy()))\n",
    "\n"
   ]
  },
  {
   "cell_type": "markdown",
   "id": "3440b1e2-cde3-4266-8ee4-8af00fa18ea1",
   "metadata": {},
   "source": [
    "Plot amplitudes in each phase on polar coordinate system, add mean vector"
   ]
  },
  {
   "cell_type": "code",
   "execution_count": null,
   "id": "718f5339-6417-48e3-85c7-7f0157de3453",
   "metadata": {},
   "outputs": [],
   "source": [
    "fig = plt.figure(figsize=(15,10))\n",
    "\n",
    "ax = fig.add_subplot(121, projection='polar')\n",
    "\n",
    "ax.bar(x=phase_amp_data_aggr['phase2Hz_bincentres'],\n",
    "       height=phase_amp_data_aggr['amp20Hz'],\n",
    "      width=2*np.pi/24,\n",
    "       linewidth=2, \n",
    "       edgecolor=\"white\")\n",
    "ax.plot([0,np.angle(MI_2hzX20Hz)],\n",
    "        [0,np.abs(MI_2hzX20Hz)],'r',linewidth=2)\n",
    "ax.set_title('Mean 20 Hz amplitude by 2 Hz phase')\n",
    "ax.set_ylim(0,1/12)\n",
    "\n",
    "\n",
    "ax = fig.add_subplot(122, projection='polar')\n",
    "ax.bar(x=phase_amp_data_aggr['phase2Hz_bincentres'],\n",
    "       height= phase_amp_data_aggr['amp10Hz'],\n",
    "       width=2*np.pi/24,\n",
    "       linewidth=2, \n",
    "       edgecolor=\"white\")\n",
    "ax.plot([0,np.angle(MI_2hzX10Hz)],\n",
    "        [0,np.abs(MI_2hzX10Hz)],'r',linewidth=2)\n",
    "ax.set_ylim(0,1/12)\n",
    "\n",
    "ax.set_title('Mean 10 Hz amplitude by 2 Hz phase')"
   ]
  },
  {
   "cell_type": "markdown",
   "id": "ce965f26-aaf1-4e4f-9a6a-2154d012c9ec",
   "metadata": {},
   "source": [
    "### Comodulogram: PAC over range of frequencies\n",
    "The comodulogram illustrates phase-amplitude coupling between phases of an entire range of frequencies (e.g. 1-6 Hz) and amplitudes of an entire range of frequencies (e.g. 7-40 Hz)\n",
    " \n",
    "The package \"tensorpac\" (https://etiennecmb.github.io/tensorpac/) provides efficient and robust methods for PAC analyses.\n",
    "\n"
   ]
  },
  {
   "cell_type": "markdown",
   "id": "eec3b4ca-eddb-4b61-bd35-bb55b74c7c30",
   "metadata": {},
   "source": [
    "Compute comodulogram for artificial data:"
   ]
  },
  {
   "cell_type": "code",
   "execution_count": null,
   "id": "b5ad7f44-5383-4169-bd59-ed1eb9c0384a",
   "metadata": {},
   "outputs": [],
   "source": [
    "import tensorpac\n",
    "\n",
    "# Define a Pac object\n",
    "p = tensorpac.Pac(idpac=(6,0,0), f_pha=(1,6,0.5,0.1), f_amp=(6,40,1,0.5))\n",
    "# Filter the data and extract pac\n",
    "xpac = p.filterfit(1000, sgn_raw)\n",
    "\n",
    "# Prpare figure\n",
    "fig, ax = plt.subplots(figsize=(15,10))\n",
    "\n",
    "\n",
    "# plot Phase-Amplitude Coupling :\n",
    "ax = p.comodulogram(xpac.mean(-1), cmap='Spectral_r', plotas='contour', ncontours=20,\n",
    "               title=r'2hz phase$\\Leftrightarrow$20Hz amplitude coupling',\n",
    "               fz_title=14, fz_labels=13)\n",
    "\n",
    "p.show()"
   ]
  },
  {
   "cell_type": "markdown",
   "id": "7d5b68ec-c4e9-4316-aaa4-0b28d94705df",
   "metadata": {},
   "source": [
    "Compute comodulogram data from the Amygdala ('AL1'):\n",
    "* coupling between 1 Hz phase and 20 Hz amplitudes\n",
    "* coupling between 2.5 Hz phase and 25 Hz amplitudes"
   ]
  },
  {
   "cell_type": "code",
   "execution_count": null,
   "id": "f2f7a176-26b0-4287-8a02-4355a315cded",
   "metadata": {},
   "outputs": [],
   "source": [
    "# Define a Pac object\n",
    "p = tensorpac.Pac(idpac=(6,0,0), f_pha=(1,10,1,1), f_amp=(11,100,1,1))\n",
    "# Filter the data and extract pac\n",
    "xpac = p.filterfit(ieeg_AL1_window.info.get('sfreq'), ieeg_AL1_window.get_data(0))\n",
    "\n",
    "# Prpare figure\n",
    "fig, ax = plt.subplots(figsize=(15,10))\n",
    "\n",
    "\n",
    "# plot Phase-Amplitude Coupling :\n",
    "ax = p.comodulogram(xpac.mean(-1), cmap='Spectral_r', plotas='contour', ncontours=20,\n",
    "               title=r'<10hz phase$\\Leftrightarrow$>20Hz amplitude coupling',\n",
    "               fz_title=14, fz_labels=13)\n",
    "\n",
    "p.show()"
   ]
  },
  {
   "cell_type": "markdown",
   "id": "db26749d-adaf-4693-bdbb-e4fac9986af1",
   "metadata": {},
   "source": [
    "## Spike detection and spike sorting"
   ]
  },
  {
   "cell_type": "markdown",
   "id": "6fb1c9db-6225-40eb-88d1-8d85433eea85",
   "metadata": {},
   "source": [
    "### Load data"
   ]
  },
  {
   "cell_type": "markdown",
   "id": "dc1a4542-c609-42c9-bf9d-a0257a67a0a5",
   "metadata": {},
   "source": [
    "Download example data that is used in the tutorials for the (outdated) SpikeSort package\n",
    "* Package: https://spike-sort.readthedocs.io\n",
    "* Tutorial data: https://spike-sort.readthedocs.io/en/latest/datafiles.html#tutorial-data\n",
    "\n",
    "Dataset:\n",
    "* Reference: *Telenczuk, Bartosz, Stuart N Baker, Andreas V M Herz, and Gabriel Curio. “High-frequency EEG Covaries with Spike Burst Patterns Detected in Cortical Neurons.” Journal of Neurophysiology 105, no. 6 (2011): 2951–2959.*\n",
    "* Data:\n",
    "    * 4 channels recorded in macacques\n",
    "    * sampling-rate: 25 kHz\n",
    "    * Recording: 15.675 minutes of data\n"
   ]
  },
  {
   "cell_type": "code",
   "execution_count": null,
   "id": "83b6a2b5-4704-4d71-b195-a8cc11e7a5db",
   "metadata": {},
   "outputs": [],
   "source": [
    "# Donload the data\n",
    "url = \"https://github.com/btel/SpikeSort/releases/download/v0.12/tutorial.h5\"\n",
    "r = requests.get(url, allow_redirects=True)\n",
    "open('microelectrode_data.h5','wb').write(r.content)"
   ]
  },
  {
   "cell_type": "code",
   "execution_count": null,
   "id": "8b99a6b7-c554-4465-b42e-d05c5982a4e6",
   "metadata": {},
   "outputs": [],
   "source": [
    "# Load the dataset\n",
    "import h5py\n",
    "# sampling rate: 25000 Hz\n",
    "# 4 Channels\n",
    "# 15.675 minutes of recording\n",
    "\n",
    "f = h5py.File('microelectrode_data.h5')\n",
    "dset = f['SubjectA']['session01']['el1']['raw'][:]\n",
    "print('Dimension:')\n",
    "print(dset.shape)\n",
    "print('Duration in minutes: ' + str(dset.shape[1]/25000/60))"
   ]
  },
  {
   "cell_type": "markdown",
   "id": "06b2c904-5b74-4a65-8ce9-6366f3e27467",
   "metadata": {},
   "source": [
    "### Preprocess data"
   ]
  },
  {
   "cell_type": "markdown",
   "id": "b3e99f19-b888-477b-b48b-a151ff5b9ab3",
   "metadata": {},
   "source": [
    "Cut the date to 5 minutes"
   ]
  },
  {
   "cell_type": "code",
   "execution_count": null,
   "id": "04ddbb2a-6051-48fd-8e97-af37eadaebc0",
   "metadata": {},
   "outputs": [],
   "source": [
    "dset = dset[:,10*60*25000:15*60*25000]"
   ]
  },
  {
   "cell_type": "markdown",
   "id": "441c13a1-aba6-4742-a4b7-3c20a1a76c53",
   "metadata": {},
   "source": [
    "Create a mne dataset"
   ]
  },
  {
   "cell_type": "code",
   "execution_count": null,
   "id": "a4bfcbab-fa38-46ef-a1a3-0d0d6009726b",
   "metadata": {},
   "outputs": [],
   "source": [
    "dset_info = mne.create_info(ch_names=['ch0','ch1','ch2','ch3'],ch_types=4*['eeg'], sfreq=25000)\n",
    "dset_mne = mne.io.RawArray(dset,dset_info)"
   ]
  },
  {
   "cell_type": "markdown",
   "id": "dbe568f6-eede-4c61-93c6-83e5fa354228",
   "metadata": {},
   "source": [
    "Plot raw data: 5 seconds"
   ]
  },
  {
   "cell_type": "code",
   "execution_count": null,
   "id": "a2fd554e-9116-48af-b207-45403c4db639",
   "metadata": {},
   "outputs": [],
   "source": [
    "# set browser backend to matplotlib => no popup\n",
    "mne.viz.set_browser_backend('matplotlib')\n",
    "fig = mne.viz.plot_raw(\n",
    "    dset_mne,\n",
    "    start=0,\n",
    "    duration = 5,\n",
    "    show=False,\n",
    "    scalings={'eeg':1000})\n",
    "\n",
    "\n",
    "fig.set_size_inches(15,10)"
   ]
  },
  {
   "cell_type": "markdown",
   "id": "8eefe594-b346-4903-8831-0b758be24d6e",
   "metadata": {},
   "source": [
    "Plot PSD of raw data"
   ]
  },
  {
   "cell_type": "code",
   "execution_count": null,
   "id": "126af5bf-4dd9-4e70-af2b-91239851145c",
   "metadata": {},
   "outputs": [],
   "source": [
    "fig = dset_mne.plot_psd(show=False)\n",
    "fig.set_size_inches(15,10)"
   ]
  },
  {
   "cell_type": "markdown",
   "id": "1aa654bf-e215-41f3-90f9-fac9801089c6",
   "metadata": {},
   "source": [
    "Re-reference the data to common median"
   ]
  },
  {
   "cell_type": "code",
   "execution_count": null,
   "id": "ad11c5b2-1eb5-4410-ac7a-1e839298244d",
   "metadata": {},
   "outputs": [],
   "source": [
    "dset_mne_ref = mne.io.RawArray(dset[:]-np.median(dset[:],axis=0)[None,:],\n",
    "                           dset_info)"
   ]
  },
  {
   "cell_type": "code",
   "execution_count": null,
   "id": "16438cb3-8582-481f-8952-692e579b0447",
   "metadata": {},
   "outputs": [],
   "source": [
    "fig = mne.viz.plot_raw(\n",
    "    dset_mne_ref,\n",
    "    start=0,\n",
    "    duration = 5,\n",
    "    show=False,\n",
    "    scalings={'eeg':1000})\n",
    "fig.set_size_inches(15,10)"
   ]
  },
  {
   "cell_type": "markdown",
   "id": "0fc827c3-3d11-4cc6-8059-8d587e029acd",
   "metadata": {},
   "source": [
    "Plot psd of median referenced data"
   ]
  },
  {
   "cell_type": "code",
   "execution_count": null,
   "id": "e50e742e-4358-4402-83f4-58ee2d513f2f",
   "metadata": {},
   "outputs": [],
   "source": [
    "fig = dset_mne_ref.plot_psd(show=False)\n",
    "fig.set_size_inches(15,10)"
   ]
  },
  {
   "cell_type": "markdown",
   "id": "79e956d3-d5ef-4dfa-b127-c53420f2e4b5",
   "metadata": {},
   "source": [
    "### Plot single spikes"
   ]
  },
  {
   "cell_type": "markdown",
   "id": "cfa03a2a-005e-4081-b1f8-3a7e1480e5e3",
   "metadata": {},
   "source": [
    "Plot only channel 3, first second"
   ]
  },
  {
   "cell_type": "code",
   "execution_count": null,
   "id": "ccfac17c-348c-48c7-89c5-4eb9af91389b",
   "metadata": {},
   "outputs": [],
   "source": [
    "fig = mne.viz.plot_raw(\n",
    "    dset_mne_ref.copy().pick_channels(['ch3']),\n",
    "    start=0,\n",
    "    duration = 1,\n",
    "    show=False,\n",
    "    scalings={'eeg':1000})\n",
    "fig.set_size_inches(15,5)"
   ]
  },
  {
   "cell_type": "markdown",
   "id": "2c208b96-b6d1-45ee-9ac7-05ffa7a7916d",
   "metadata": {},
   "source": [
    "Plot only channel 3, 80-100 ms"
   ]
  },
  {
   "cell_type": "code",
   "execution_count": null,
   "id": "0cea4bfe-ee3a-4096-97cf-33fee76c2a35",
   "metadata": {},
   "outputs": [],
   "source": [
    "fig = mne.viz.plot_raw(\n",
    "    dset_mne_ref.copy().pick_channels(['ch3']),\n",
    "    start=0.08,\n",
    "    duration = 0.02,\n",
    "    show=False,\n",
    "    scalings={'eeg':1000})\n",
    "fig.set_size_inches(15,5)"
   ]
  },
  {
   "cell_type": "code",
   "execution_count": null,
   "id": "21043f02-efa9-41bd-af14-0065eb7187eb",
   "metadata": {},
   "outputs": [],
   "source": [
    "dset_mne_reffilt = dset_mne_ref.copy().filter(l_freq=300,h_freq = 6000)"
   ]
  },
  {
   "cell_type": "code",
   "execution_count": null,
   "id": "2c1c2870-4336-4201-9090-82a1fa1f8da2",
   "metadata": {},
   "outputs": [],
   "source": [
    "fig = mne.viz.plot_raw(\n",
    "    dset_mne_reffilt.copy().pick_channels(['ch3']),\n",
    "    start=0.08,\n",
    "    duration = 0.02,\n",
    "    show=False,\n",
    "    scalings={'eeg':1000})\n",
    "fig.set_size_inches(15,5)"
   ]
  },
  {
   "cell_type": "markdown",
   "id": "1393273b-73fc-4859-bd82-126724a15713",
   "metadata": {},
   "source": [
    "### Perform spike-sorting\n",
    "\n",
    "Different approaches and algorithms for Spike Sorting. Here, we use SpikeInterface:\n",
    "* Python-package: https://spikeinterface.readthedocs.io\n",
    "* Publication: *Buccino, A. P., Hurwitz, C. L., Garcia, S., Magland, J., Siegle, J. H., Hurwitz, R., & Hennig, M. H. (2020). SpikeInterface, a unified framework for spike sorting. ELife, 9, e61834. https://doi.org/10.7554/eLife.61834*\n",
    "* Advantages of the the package: it implements different types of algorithms\n",
    "\n",
    "\n"
   ]
  },
  {
   "cell_type": "code",
   "execution_count": null,
   "id": "f5f60486-2c1b-46ec-b822-081130220814",
   "metadata": {},
   "outputs": [],
   "source": [
    "import spikeinterface.full as ss"
   ]
  },
  {
   "cell_type": "markdown",
   "id": "98acf02f-4386-4cf0-9ad9-1b11280d450a",
   "metadata": {},
   "source": [
    "Create a spikeinterface recording object"
   ]
  },
  {
   "cell_type": "code",
   "execution_count": null,
   "id": "a65f7719-a708-4cbe-9b33-3bc495270912",
   "metadata": {},
   "outputs": [],
   "source": [
    "num_channels = 4\n",
    "sampling_frequency = 25000  # in Hz\n",
    "num_segments = 1\n",
    "recording = ss.NumpyRecording(traces_list=[dset.T], sampling_frequency=sampling_frequency)"
   ]
  },
  {
   "cell_type": "markdown",
   "id": "b55f8819-e468-4a38-9a4e-28dba7795ad5",
   "metadata": {},
   "source": [
    "Plot first 5 seconds of data"
   ]
  },
  {
   "cell_type": "code",
   "execution_count": null,
   "id": "11ded8ec-442a-4305-a132-153eeaec990d",
   "metadata": {},
   "outputs": [],
   "source": [
    "#%% Plot first 5 seconds\n",
    "w_ts = ss.plot_timeseries(recording, time_range=(0, 5))\n",
    "fig = plt.gcf()\n",
    "fig.set_size_inches(15,10)\n",
    "fig.suptitle('Raw signal')\n",
    "fig.tight_layout()"
   ]
  },
  {
   "cell_type": "markdown",
   "id": "39839cb9-2954-46d1-a93f-c2ce66928767",
   "metadata": {},
   "source": [
    "Preprocess the data:\n",
    "* Bandpass-filter the data: 300-6000 Hz\n",
    "* Re-reference to common median"
   ]
  },
  {
   "cell_type": "code",
   "execution_count": null,
   "id": "6b36b208-f273-4d0a-9f86-d02edf5fc275",
   "metadata": {},
   "outputs": [],
   "source": [
    "# Filter the recording\n",
    "recording_flt = ss.bandpass_filter(recording,freq_min=300, freq_max=6000)\n",
    "\n",
    "# Re-reference\n",
    "recording_fltref = ss.common_reference(recording_flt,reference='global',operator='median')"
   ]
  },
  {
   "cell_type": "markdown",
   "id": "c691cc5b-9770-42c6-8988-d375db0a9dca",
   "metadata": {},
   "source": [
    "Plot the processed data\n",
    "* The channel appear to have different amplitudes ..."
   ]
  },
  {
   "cell_type": "code",
   "execution_count": null,
   "id": "dc9a4de3-9306-4fc7-a3ed-3daea7875bc0",
   "metadata": {},
   "outputs": [],
   "source": [
    "# Plot\n",
    "w_ts = ss.plot_timeseries(recording_fltref, time_range=(0, 5))\n",
    "\n",
    "fig = plt.gcf()\n",
    "fig.set_size_inches(15,10)\n",
    "fig.suptitle('Filtered & re-referenced')\n",
    "fig.tight_layout()"
   ]
  },
  {
   "cell_type": "markdown",
   "id": "a41e40eb-ed22-450b-a8fa-333de9d6df3f",
   "metadata": {},
   "source": [
    "Pick a channel for spike-sorting\n",
    " \n",
    "Note: spike sorting can be performed for multiple channels. It is even possible to try to identify units that are visible in multiple channels (if electrodes were place close to each other"
   ]
  },
  {
   "cell_type": "code",
   "execution_count": null,
   "id": "b8bfa32f-4d14-4a94-ba1a-eeff280b6637",
   "metadata": {},
   "outputs": [],
   "source": [
    "recording_fltref_chn = recording_fltref.channel_slice([2])"
   ]
  },
  {
   "cell_type": "markdown",
   "id": "863ee457-e2c9-4f3e-b8c7-85ea66d1ec15",
   "metadata": {},
   "source": [
    "Define the electrode (\"probe\") that was used:\n",
    "* assume a linear electrode with 1 channel\n",
    "* plot it"
   ]
  },
  {
   "cell_type": "code",
   "execution_count": null,
   "id": "5ef40e0e-d47e-4f2a-b83b-c5a1779f3c80",
   "metadata": {},
   "outputs": [],
   "source": [
    "from probeinterface import  generate_linear_probe\n",
    "\n",
    "from probeinterface.plotting import plot_probe, plot_probe_group\n",
    "from probeinterface import Probe, ProbeGroup\n",
    "\n",
    "# create probe\n",
    "linear_probe = generate_linear_probe(num_elec=1, ypitch=20)\n",
    "linear_probe.set_device_channel_indices(0)\n",
    "\n",
    "\n",
    "plot_probe(linear_probe, with_channel_index=True)"
   ]
  },
  {
   "cell_type": "markdown",
   "id": "6b10f5b8-4873-476b-98ea-230d3bc605ac",
   "metadata": {},
   "source": [
    "Assign probe to recording"
   ]
  },
  {
   "cell_type": "code",
   "execution_count": null,
   "id": "5fa26ad0-b24e-4b89-a814-1fe48a0315a6",
   "metadata": {},
   "outputs": [],
   "source": [
    "recording_fltref_chn = recording_fltref_chn.set_probe(linear_probe)"
   ]
  },
  {
   "cell_type": "markdown",
   "id": "76d366d3-45d3-4f19-821f-e1ef1a9529bf",
   "metadata": {},
   "source": [
    "Save recording (required for sorting)"
   ]
  },
  {
   "cell_type": "code",
   "execution_count": null,
   "id": "26b0e6a2-3bbf-451e-b3fe-3be9ce6484c1",
   "metadata": {},
   "outputs": [],
   "source": [
    "recording_preprocessed = recording_fltref_chn.save(format='binary')"
   ]
  },
  {
   "cell_type": "markdown",
   "id": "a02f285f-95ff-4e4a-b24c-2baaf1d68cef",
   "metadata": {},
   "source": [
    "Run sorter:\n",
    "* Use the preprocessd recording\n",
    "* Use the Tridesclous (TDC) sorting algorithm (https://tridesclous.readthedocs.io)"
   ]
  },
  {
   "cell_type": "code",
   "execution_count": null,
   "id": "3ba8598e-454a-4dc1-b6d7-4037dc713acf",
   "metadata": {},
   "outputs": [],
   "source": [
    "sorting_TDC = ss.run_sorter(sorter_name = 'tridesclous',\n",
    "                             recording=recording_preprocessed)"
   ]
  },
  {
   "cell_type": "markdown",
   "id": "6d56c84e-2b0f-45ac-8654-631a64d8e882",
   "metadata": {},
   "source": [
    "Report the result: hot many units?"
   ]
  },
  {
   "cell_type": "code",
   "execution_count": null,
   "id": "47fbb491-ffa1-40dd-81fa-1c0789302f8f",
   "metadata": {},
   "outputs": [],
   "source": [
    "print(sorting_TDC)"
   ]
  },
  {
   "cell_type": "markdown",
   "id": "a430d378-a9c7-45d6-9342-23a375060848",
   "metadata": {},
   "source": [
    "Extract the waveforms of all units"
   ]
  },
  {
   "cell_type": "code",
   "execution_count": null,
   "id": "d0fcdb82-e378-4eab-a06d-b17757b3092b",
   "metadata": {},
   "outputs": [],
   "source": [
    "we_TDC = ss.WaveformExtractor.create(recording_preprocessed,\n",
    "                                     sorting_TDC, 'waveforms',\n",
    "                                     remove_if_exists=True)\n",
    "we_TDC.set_params(ms_before=3., ms_after=4., max_spikes_per_unit=500)\n",
    "we_TDC.run_extract_waveforms(n_jobs=-1, chunk_size=30000)"
   ]
  },
  {
   "cell_type": "markdown",
   "id": "40e8247f-4874-4191-9c9b-a943fdde462f",
   "metadata": {},
   "source": [
    "### Report sorting results"
   ]
  },
  {
   "cell_type": "markdown",
   "id": "03ec275b-30d6-4cc3-8601-0d664d5634e0",
   "metadata": {},
   "source": [
    "Plot the waveforms of all units"
   ]
  },
  {
   "cell_type": "code",
   "execution_count": null,
   "id": "dd3b928e-35cc-47d5-99a6-5484c18f34d1",
   "metadata": {},
   "outputs": [],
   "source": [
    "ss.plot_unit_waveforms(we_TDC,unit_ids = sorting_TDC.unit_ids[:])\n",
    "\n",
    "fig = plt.gcf()\n",
    "fig.set_size_inches(15,10)\n",
    "fig.suptitle('Waveforms of units')"
   ]
  },
  {
   "cell_type": "code",
   "execution_count": null,
   "id": "27f827cf-9b20-4e83-93e0-ea1ef9fa7169",
   "metadata": {},
   "outputs": [],
   "source": [
    "fig, ax = plt.subplots(figsize=(15,5))\n",
    "\n",
    "for Ui in range(len(sorting_TDC.unit_ids)):\n",
    "    ax.plot(np.mean(we_TDC.get_waveforms(Ui),axis=0),label=str(Ui))\n",
    "\n",
    "ax.legend()\n",
    "fig.suptitle('Mean waveforms')    "
   ]
  },
  {
   "cell_type": "markdown",
   "id": "6c9d779c-77de-45f1-a67f-7a4987e63bee",
   "metadata": {},
   "source": [
    "Plot the activity of the units"
   ]
  },
  {
   "cell_type": "code",
   "execution_count": null,
   "id": "aa9b7f31-7c5b-4b4a-a537-46f1a92574a9",
   "metadata": {},
   "outputs": [],
   "source": [
    "ss.plot_rasters(sorting_TDC)\n",
    "fig = plt.gcf()\n",
    "fig.set_size_inches(15,5)\n",
    "fig.suptitle('Single spikes in time per unit')"
   ]
  },
  {
   "cell_type": "code",
   "execution_count": null,
   "id": "2e5b5705-c0d4-4f2a-bf3e-fd1ceafe4cff",
   "metadata": {},
   "outputs": [],
   "source": [
    "ss.plot_presence(sorting_TDC)\n",
    "fig = plt.gcf()\n",
    "fig.set_size_inches(15,5)\n",
    "fig.suptitle('Spiking activity in time as density')"
   ]
  },
  {
   "cell_type": "markdown",
   "id": "ecff40f0-50f0-4ac6-a79c-2b944e6abfb9",
   "metadata": {},
   "source": [
    "Plot auto- and cross-correlogram"
   ]
  },
  {
   "cell_type": "code",
   "execution_count": null,
   "id": "86ba1054-a16a-4b57-b100-c28ff42dc2b8",
   "metadata": {},
   "outputs": [],
   "source": [
    "ss.plot_crosscorrelograms(sorting_TDC, window_ms=300.0, bin_ms=5.0, symmetrize=True)\n",
    "\n",
    "fig = plt.gcf()\n",
    "fig.set_size_inches(15,10)\n",
    "fig.suptitle('Auto-and Cross-correlogram')\n"
   ]
  },
  {
   "cell_type": "markdown",
   "id": "e670baed-c9b2-42df-af45-57bf6915e0e5",
   "metadata": {},
   "source": [
    "Assignment: what kind of information do the auto- and cross-correlograms represent?"
   ]
  }
 ],
 "metadata": {
  "kernelspec": {
   "display_name": "Python [conda env:teaching_env]",
   "language": "python",
   "name": "conda-env-teaching_env-py"
  },
  "language_info": {
   "codemirror_mode": {
    "name": "ipython",
    "version": 3
   },
   "file_extension": ".py",
   "mimetype": "text/x-python",
   "name": "python",
   "nbconvert_exporter": "python",
   "pygments_lexer": "ipython3",
   "version": "3.7.11"
  }
 },
 "nbformat": 4,
 "nbformat_minor": 5
}
