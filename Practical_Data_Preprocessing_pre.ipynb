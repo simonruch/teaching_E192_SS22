{
 "cells": [
  {
   "cell_type": "markdown",
   "id": "84ddbcba-da74-4dde-a208-7cbfdde0f7d1",
   "metadata": {},
   "source": [
    "# PREPROCESSING: set environment\n",
    "set python environment"
   ]
  },
  {
   "cell_type": "code",
   "execution_count": null,
   "id": "7a613621-7f4c-4f79-aeef-82394108080b",
   "metadata": {
    "tags": []
   },
   "outputs": [],
   "source": [
    "do_installs = True\n",
    "if do_installs:\n",
    "    !pip install acoustics\n",
    "    !pip install numpy\n",
    "    !pip install scipy\n",
    "    !pip install matplotlib\n",
    "    !pip install mne\n",
    "    !pip install pandas\n",
    "    !pip install tensorpac\n",
    "    !pip install requests\n"
   ]
  },
  {
   "cell_type": "code",
   "execution_count": null,
   "id": "fe5ad365-8c26-4dee-861f-0aef7d573cd5",
   "metadata": {},
   "outputs": [],
   "source": [
    "import acoustics      #=> for creating artificial signals\n",
    "import numpy as np    #=> for numeric operations\n",
    "import scipy as sc    #=> for scientific computing\n",
    "import matplotlib.pyplot as plt #=> for plotting\n",
    "import mne            #=> for signal processing (M/EEG)\n",
    "\n",
    "import copy           #=> deepcopying\n",
    "\n",
    "import pandas as pd   #=> for working with data frames\n",
    "\n",
    "%matplotlib inline    \n",
    "                      #=> set plotting backend for notebooks"
   ]
  },
  {
   "cell_type": "markdown",
   "id": "b81af021-6eb8-40ee-869f-931a22d1d079",
   "metadata": {},
   "source": [
    "# PREPROCESSING: basic principles"
   ]
  },
  {
   "cell_type": "markdown",
   "id": "8a1a0d5c-5bbc-4d0a-af76-677f83f67459",
   "metadata": {
    "tags": []
   },
   "source": [
    "## Preprocessing: WHY?\n",
    "Raw electroencephalography data (recordings from depth electrodes: macro- and microelectrodes) contain artifacts that must be removed before the signal can be used for further analyses.\n",
    " \n",
    "\n",
    "Potential artifacts:\n",
    "* Electromagnetic noise\n",
    "* Line noise\n",
    "* Movement artifacts\n",
    "* Signal jumps\n",
    "* Potential drifts\n",
    "* ...\n",
    "\n",
    "## Preprocessing: HOW?\n",
    "* Identify artifacts:\n",
    "    * by visual inspection of raw data\n",
    "    * by means of simple descriptive statistics (e.g. standard deviation of signal, ...)\n",
    "* Remove artifacs:\n",
    "  * Filtering\n",
    "  * Re-referencing\n",
    "  * Rejecting \n",
    "  * ..."
   ]
  },
  {
   "cell_type": "markdown",
   "id": "80b221c5-c24b-454f-ba5e-99f8900c026f",
   "metadata": {},
   "source": [
    "## Artifact identification"
   ]
  },
  {
   "cell_type": "markdown",
   "id": "24247b4a-bcc0-4897-a4b3-2d0c9c802aeb",
   "metadata": {
    "tags": []
   },
   "source": [
    "### Visual inspection\n",
    "* Look at the raw data\n",
    "* Look at the power spectral density (PSD)"
   ]
  },
  {
   "cell_type": "markdown",
   "id": "08972ce9-dd95-4f45-930b-91b9024fbf05",
   "metadata": {},
   "source": [
    "Create artificial signal:\n",
    "* pink-noise data to mimick backround neuronal activity\n",
    "* 10 s of data\n",
    "* 1000 Hz sampling rate"
   ]
  },
  {
   "cell_type": "code",
   "execution_count": null,
   "id": "b17b68c9-cea8-42d2-a915-57eef5fcd234",
   "metadata": {},
   "outputs": [],
   "source": [
    "#%% Create artificial signal\n",
    "ieeg = {}\n",
    "ieeg['dur']   = 10\n",
    "ieeg['srate'] = 1000\n",
    "ieeg['time']  = np.arange(0,ieeg['dur']*ieeg['srate'])/ieeg['srate']\n",
    "\n",
    "ieeg['data'] = acoustics.generator.noise(\n",
    "    N=ieeg['dur']*ieeg['srate'],\n",
    "    color='pink',  # pink noise: 1/f distribution\n",
    "    state=np.random.RandomState(seed=2022) # seed for random numbers generator\n",
    "    )\n",
    "\n"
   ]
  },
  {
   "cell_type": "markdown",
   "id": "c9ab9e6d-4455-4b3d-b8a1-8d93b0410d65",
   "metadata": {},
   "source": [
    "#### Inspection of raw signal\n",
    "Plot artificial signal:"
   ]
  },
  {
   "cell_type": "code",
   "execution_count": null,
   "id": "307474cb-5c9d-4fd3-a366-eda0cce10988",
   "metadata": {},
   "outputs": [],
   "source": [
    "#%% Plot artificial signal\n",
    "fig, ax = plt.subplots(figsize=(15,5))\n",
    "ax.plot(ieeg['time'],ieeg['data'])\n",
    "\n",
    "ax.set_title('Raw signal')\n",
    "ax.set_xlabel('Time (s)')\n",
    "ax.set_ylabel('Amplitude')\n",
    "ax.grid()"
   ]
  },
  {
   "cell_type": "markdown",
   "id": "16650175-d099-4ff6-a7c7-b7aadbd1e1fb",
   "metadata": {},
   "source": [
    "#### Inspection of power spectral density (PSD)\n",
    "* A time-series can be described as a sum of oscillations of different frequencies that all have different amplitudes\n",
    "* Inspecting the different frequency contents (the amplitudes oscillations at different frequencies have) can provide information about potential artifacts in the signal\n",
    "\n",
    "Compute and plot the PSD of our signal:"
   ]
  },
  {
   "cell_type": "code",
   "execution_count": null,
   "id": "050cb4d5-e2f4-4b39-9523-a30f3a064f09",
   "metadata": {},
   "outputs": [],
   "source": [
    "#%% Compute power spectral density (PSD) of signal\n",
    "ieeg_psd_analytic,ieeg_psd_freqs = mne.time_frequency.psd_array_multitaper(\n",
    "    x = ieeg['data'],\n",
    "    sfreq = ieeg['srate'])\n",
    "\n",
    "#%% Plot PSD of signal\n",
    "fig, ax = plt.subplots(figsize=(15,5))\n",
    "ax.plot(ieeg_psd_freqs,ieeg_psd_analytic)\n",
    "ax.set_xlabel('Frequency (Hz)')\n",
    "ax.set_ylabel('Amplitude')\n",
    "ax.set_yscale(\"log\")\n",
    "ax.set_title('Power spectral denity')\n",
    "ax.grid()"
   ]
  },
  {
   "cell_type": "markdown",
   "id": "804921f3-fa23-4380-a4d4-e401a2b64e7d",
   "metadata": {},
   "source": [
    "#### Explore data with different spectral properties"
   ]
  },
  {
   "cell_type": "markdown",
   "id": "501771c4-788b-41c1-939b-e549c42f6e3b",
   "metadata": {},
   "source": [
    "Function to create and plot different types of signals:"
   ]
  },
  {
   "cell_type": "code",
   "execution_count": null,
   "id": "fe184ecf-0efa-4b4e-bd78-4ca9b3b35f16",
   "metadata": {},
   "outputs": [],
   "source": [
    "def create_and_plot_artificial_signal(dur=10,srate = 1000, kind='pink'):\n",
    "    \"\"\"\n",
    "    \n",
    "\n",
    "    Parameters\n",
    "    ----------\n",
    "    dur : float, optional\n",
    "        Duration of signal in seconds. The default is 10.\n",
    "    srate : float, optional\n",
    "        sampling-rate of signal. The default is 1000.\n",
    "    kind : string({white, pink, blue, brown, violet}), optional\n",
    "        Type of random noise that is generated. The default is 'pink'.\n",
    "\n",
    "    Returns\n",
    "    -------\n",
    "    noise data: dict with fields\n",
    "    data : np array containing the actual data\n",
    "    srate : sampling rate \n",
    "    time : np array containing the time-stamps (in s) for each sample\n",
    "\n",
    "    \"\"\"\n",
    "    # => some pink noise\n",
    "    noise_dat = {}\n",
    "\n",
    "    noise_dat['data'] = acoustics.generator.noise(\n",
    "        N=dur*srate,        # 10`000 samples\n",
    "        color=kind,  # white noise: all frequencyies are equally present\n",
    "        state=np.random.RandomState(seed=2022) # seed for random numbers generator\n",
    "        )\n",
    "\n",
    "    noise_dat['srate'] = srate\n",
    "    noise_dat['time'] = np.arange(0,len(noise_dat['data']))/noise_dat['srate']\n",
    "    \n",
    "    \n",
    "\n",
    "    # Compute psd    \n",
    "    noise_dat_psd_analytic,noise_dat_psd_freqs = mne.time_frequency.psd_array_multitaper(\n",
    "        x = noise_dat['data'],\n",
    "        sfreq = noise_dat['srate'])\n",
    "        \n",
    "    # Plot raw signal and PSD\n",
    "    fig, ax = plt.subplots(nrows = 1,ncols = 2, figsize = (15,5))\n",
    "    \n",
    "    ax[0].plot(noise_dat['time'],noise_dat['data'])\n",
    "    ax[0].set_title('Raw signal')\n",
    "    ax[0].set_xlabel('Time (s)')\n",
    "    ax[0].set_ylabel('Amplitude')\n",
    "    ax[0].grid()\n",
    "    \n",
    "    \n",
    "    ax[1].plot(noise_dat_psd_freqs,noise_dat_psd_analytic)\n",
    "    ax[1].set_xlabel('Frequency (Hz)')\n",
    "    ax[1].set_ylabel('Amplitude')\n",
    "    ax[1].set_yscale(\"log\")\n",
    "    ax[1].set_title('Power spectral denity')\n",
    "    ax[1].grid()\n",
    "    fig.tight_layout()\n",
    "    \n",
    "    return noise_dat   "
   ]
  },
  {
   "cell_type": "markdown",
   "id": "4fb19c17-fbd0-4fc6-95e4-dd3e175f5f5d",
   "metadata": {},
   "source": [
    "Explore different types of signals:\n",
    "* white\n",
    "* pink\n",
    "* blue\n",
    "* brown\n",
    "* violet"
   ]
  },
  {
   "cell_type": "code",
   "execution_count": null,
   "id": "00ceea78-5af7-438f-8d8d-c8e5486ab848",
   "metadata": {},
   "outputs": [],
   "source": [
    "create_and_plot_artificial_signal(dur=10,srate = 1000, kind='pink')"
   ]
  },
  {
   "cell_type": "markdown",
   "id": "db48462b-c7ba-4ac8-8891-28a67c7b3907",
   "metadata": {},
   "source": [
    "ASSIGNMENT: Explore which type of signal looks like actual electrophysiological data from within the brain"
   ]
  },
  {
   "cell_type": "code",
   "execution_count": null,
   "id": "5d82a937-9920-423d-ad39-bad50d02c38f",
   "metadata": {},
   "outputs": [],
   "source": [
    "# ASSIGNMENT:\n",
    "# => hint: use the above code, but plot different kinds of signal (white noise, ...)"
   ]
  },
  {
   "cell_type": "markdown",
   "id": "b2cd1ad6-2bfa-437e-8140-451bba0c57ad",
   "metadata": {},
   "source": [
    "#### EXCURSUS: time-domain vs. frequency domain\n",
    "* Raw data are represented in the time-domain (voltage fluctuations across time)\n",
    "* These fluctuations can be represented in the frequency domain: sum of oscillations (sine/cosine waves) that all have different ...\n",
    "  * ... frequencies\n",
    "  * ... amplitudes (\"power\")\n",
    "  * ... phases"
   ]
  },
  {
   "cell_type": "markdown",
   "id": "82376411-2556-40f1-8efb-b2e4364ffbae",
   "metadata": {},
   "source": [
    "Function for creating a sum of oscillations:"
   ]
  },
  {
   "cell_type": "code",
   "execution_count": null,
   "id": "36d718a4-ade8-49b6-87b7-de859809727f",
   "metadata": {},
   "outputs": [],
   "source": [
    "# Function for creating and plotting \n",
    "def sum_of_cosine_waves(duration, fsample, cosine_wave_params, do_plot = True):\n",
    "    \"\"\"\n",
    "    Create signal by combining cosine-waves with different frequencies, \n",
    "    amplitudes, and phase-offsets, plot the signal\n",
    "\n",
    "    Parameters\n",
    "    ----------\n",
    "    duration : float\n",
    "        duration of artificial signal in seconds\n",
    "    fsample : TYPE\n",
    "        sampling rate of artificial signal\n",
    "    cosine_wave_params : list of dicts\n",
    "        list of dicts with amplitude, frequency, and phase-shift of signal.\n",
    "        Fields:\n",
    "            - amp: float\n",
    "            - freq: float, in Hz \n",
    "            - phase: float, -PI to PI\n",
    "    doplot: bool (default: True)\n",
    "        whether or not to plot the data\n",
    "        \n",
    "\n",
    "    Returns\n",
    "    -------\n",
    "    data: dict\n",
    "        Dictionnary containing the artificial signal. Keys:\n",
    "            'time': time vector\n",
    "            'data': the time series\n",
    "            'srate': sampling rate\n",
    "    fig: figure handle, [] if do_plot = False\n",
    "    \"\"\"\n",
    "    dat = {}\n",
    "    \n",
    "    dat['srate'] = fsample\n",
    "    dat['time'] = np.arange(0,duration*fsample)/fsample\n",
    "    dat['type'] = ['eeg']\n",
    "    dat['data'] = [np.zeros(dat['time'].shape)]\n",
    "    \n",
    "    \n",
    "    for Wi in cosine_wave_params:\n",
    "        dat['data'][0] = dat['data'][0] + \\\n",
    "            Wi['amp']*np.cos(dat['time']*2*np.pi*Wi['freq']+Wi['phase'])\n",
    "        \n",
    "    \n",
    "        \n",
    "    psd = mne.time_frequency.psd_array_multitaper(\n",
    "        x = dat['data'][0],\n",
    "        sfreq = dat['srate'],\n",
    "        output = 'complex')\n",
    "    \n",
    "    dat['psd_pow']     = np.abs(np.mean(psd[0],0))\n",
    "    dat['psd_phase']   = np.angle(np.mean(psd[0],0))\n",
    "    dat['psd_freqs']   = psd[1]\n",
    "    \n",
    "    fig = []\n",
    "    \n",
    "    if do_plot:\n",
    "        fig, ax = plt.subplots(nrows = 3,figsize = (15,10)) \n",
    "        \n",
    "        ax[0].plot(dat['time'],dat['data'][0])\n",
    "        ax[0].set_xlabel('Time (s)')\n",
    "        ax[0].set_ylabel('Amplitude')\n",
    "        ax[0].set_title('Raw signal')\n",
    "        ax[0].grid()\n",
    "        \n",
    "        \n",
    "        ax[1].plot(dat['psd_freqs'],dat['psd_pow'])\n",
    "        ax[1].set_xlabel('Frequency (Hz)')\n",
    "        ax[1].set_ylabel('Amplitude')\n",
    "        ax[1].set_yscale('log')\n",
    "        ax[1].set_title('Power spectral density')\n",
    "        ax[1].grid()\n",
    "        \n",
    "        \n",
    "        ax[2].plot(dat['psd_freqs'],dat['psd_phase'])\n",
    "        ax[2].set_xlabel('Frequency (Hz)')\n",
    "        ax[2].set_ylabel('Phase (Rad)')\n",
    "        ax[2].set_ylim(-3.2,3.2)\n",
    "        ax[2].set_title('Phase')\n",
    "        ax[2].grid()\n",
    "        \n",
    "        fig.tight_layout()\n",
    "            \n",
    "    \n",
    "    \n",
    "    return dat, fig\n"
   ]
  },
  {
   "cell_type": "markdown",
   "id": "d3da0e9e-3a21-424f-ab9c-d20559ed4091",
   "metadata": {},
   "source": [
    "Create and plot sum of oscillations: 1 Hz plus 20 Hz:"
   ]
  },
  {
   "cell_type": "code",
   "execution_count": null,
   "id": "5abc9dee-e91e-4bab-847d-1aada3c5cf01",
   "metadata": {},
   "outputs": [],
   "source": [
    "ieeg, fig = sum_of_cosine_waves(10,500,\n",
    "                        [{'amp':1,'freq':1,'phase':0},\n",
    "                        {'amp':1,'freq':20,'phase':0}])"
   ]
  },
  {
   "cell_type": "markdown",
   "id": "cbc5eaa3-a60b-444f-b4f3-1f1df114e016",
   "metadata": {},
   "source": [
    "ASSIGNMENT: \n",
    "* Explore what happens when oscillations with very similar frequencies are combined (e.g. 10 and 11 Hz).\n",
    "* Explore what happens when oscillations with frequencies that are an integer multiple of the fundamental frequency are combined.\n",
    "* Explore what happens when oscillations are added that have frequencies close to the sampling frequency.\n",
    "* Explore what happens to low-frequency oscillations when the data window is very short.\n",
    "* Explore what happens to high-frequency oscillations when the sampling rate is low.\n"
   ]
  },
  {
   "cell_type": "code",
   "execution_count": null,
   "id": "67184378-1344-4684-842d-4ac318284cb6",
   "metadata": {},
   "outputs": [],
   "source": [
    "# ASSIGMNENT:\n",
    "# hint: modify the following code\n",
    "ieeg, fig = sum_of_cosine_waves(\n",
    "    duration = 10,\n",
    "    fsample=500,\n",
    "    cosine_wave_params = [\n",
    "        {'amp':1,'freq':1,'phase':0},\n",
    "        {'amp':1,'freq':20,'phase':0}\n",
    "    ])"
   ]
  },
  {
   "cell_type": "markdown",
   "id": "35a2b03c-4f06-4007-bc8f-c392c3e41f99",
   "metadata": {},
   "source": [
    "### Types of artifacts"
   ]
  },
  {
   "cell_type": "markdown",
   "id": "2f77c0a2-b52c-4f3e-b529-31b3097d3957",
   "metadata": {},
   "source": [
    "Create an artificial signal with different types of artifacts:\n",
    "* 10 s of data\n",
    "* 1000 Hz sampling rate\n",
    "* Pink noise as \"true\" neuronal background activity\n",
    "* Waxing and waning 10 Hz oscillation as true brain signal\n",
    "* Artifacts:\n",
    "    * stationnary 50 Hz line noise\n",
    "    * stationnary 20 Hz noise\n",
    "    * 80 Hz noise burst \n",
    "    * signal jump\n",
    "    * signal drift\n"
   ]
  },
  {
   "cell_type": "code",
   "execution_count": null,
   "id": "e910f5f6-7d55-4685-aabc-8f1ea8fe75c1",
   "metadata": {},
   "outputs": [],
   "source": [
    "# Create signal\n",
    "ieeg = {}\n",
    "ieeg['srate'] = 1000\n",
    "ieeg['dur']  = 10\n",
    "ieeg['time'] = np.arange(0,ieeg['dur']*ieeg['srate'])/ieeg['srate']\n",
    "\n",
    "ieeg['data'] = []\n",
    "ieeg['type'] = []\n",
    "\n",
    "# True signal: pink noise\n",
    "ieeg['type'].append('EEG background data')\n",
    "ieeg['data'].append(acoustics.generator.noise(\n",
    "    N=len(ieeg['time']),        # 10`000 samples\n",
    "    color='pink',  \n",
    "    state=np.random.RandomState(seed=2022) # seed for random numbers generator\n",
    "    ))\n",
    "\n",
    "# true signal waxing and waning 10 Hz oscillatoin\n",
    "ieeg['type'].append('Waxing & waning 10 Hz oscillations')\n",
    "ieeg['data'].append((0.5+0.5*np.sin(ieeg['time']*0.2*2*np.pi))*np.sin(ieeg['time']*10*2*np.pi))\n",
    "\n",
    "# add 50 Hz sine-wave\n",
    "ieeg['type'].append('50 Hz noise')\n",
    "ieeg['data'].append(np.sin(ieeg['time']*50*2*np.pi))\n",
    "\n",
    "\n",
    "# add 20 Hz sine-wave\n",
    "ieeg['type'].append('20 Hz noise')\n",
    "ieeg['data'].append(np.sin(ieeg['time']*20*2*np.pi))\n",
    "\n",
    "# add 80 Hz burst\n",
    "ieeg['type'].append('80 Hz burst')\n",
    "ieeg['data'].append(\n",
    "    2*sc.stats.norm.pdf(ieeg['time'],loc=3,scale=.1)*np.sin(ieeg['time']*80*2*np.pi))\n",
    "\n",
    "# add jump\n",
    "ieeg['type'].append('signal jump')\n",
    "ieeg['data'].append(\n",
    "    np.zeros(ieeg['time'].shape)+5*np.ones(ieeg['time'].shape)*(ieeg['time']>7))\n",
    "\n",
    "\n",
    "# add slow drift\n",
    "ieeg['type'].append('signal drift')\n",
    "ieeg['data'].append(4*np.sin((ieeg['time']+2)*0.05*2*np.pi))\n",
    "\n",
    "# add sum of all signals\n",
    "ieeg['type'].insert(0,'Sum of signals')\n",
    "ieeg['data'].insert(0,np.row_stack(ieeg['data']).sum(axis=0))\n"
   ]
  },
  {
   "cell_type": "code",
   "execution_count": null,
   "id": "61934c12-c012-4362-b13a-b8bc90cd4016",
   "metadata": {},
   "outputs": [],
   "source": [
    "# Plotting functions\n",
    "\n",
    "#%% Plot single signal\n",
    "def plot_eeg_psd(ieeg,signal=0):\n",
    "    \n",
    "    fig, ax = plt.subplots(\n",
    "        nrows=1,\n",
    "        ncols=2)\n",
    "    \n",
    "    ieeg['psd_freqs']   = []\n",
    "    ieeg['psd_pow']     = []\n",
    "    \n",
    "    \n",
    "    # Compute PSD for all channels    \n",
    "    \n",
    "    tmp_analytic,tmp_freqs = mne.time_frequency.psd_array_multitaper(\n",
    "        x = ieeg['data'][signal],\n",
    "        sfreq = ieeg['srate'])\n",
    "    \n",
    "    ieeg['psd_freqs'].append(tmp_freqs)\n",
    "    ieeg['psd_pow'].append(tmp_analytic)\n",
    "    \n",
    "    # Plot data\n",
    "    ax[0].plot(ieeg['time'],ieeg['data'][signal],'r')\n",
    "    ax[0].set_title(ieeg['type'][signal])\n",
    "    ax[0].set_xlabel('Time (s)')\n",
    "    ax[0].set_ylabel('Amplitude')\n",
    "    ax[0].grid()\n",
    "    \n",
    "    ax[1].plot(ieeg['psd_freqs'][0],ieeg['psd_pow'][0],'r')                \n",
    "    ax[1].set_xlabel('Frequency (Hz)')\n",
    "    ax[1].set_ylabel('Amplitude')\n",
    "    ax[1].set_yscale(\"log\")\n",
    "    ax[1].grid()\n",
    "    ax[1].set_xlim(0,100)\n",
    "    ax[1].set_yscale(\"log\")\n",
    "    return fig\n",
    "\n",
    "def plot_multichannel_eeg_psd(ieeg):\n",
    "    \n",
    "    fig, ax = plt.subplots(\n",
    "        nrows= len(ieeg['data']),\n",
    "        ncols=2)\n",
    "    \n",
    "    ieeg['psd_freqs']   = []\n",
    "    ieeg['psd_pow']     = []\n",
    "    \n",
    "    \n",
    "    # Compute PSD for all channels    \n",
    "    for SGi in range(len(ieeg['data'])):\n",
    "        tmp_analytic,tmp_freqs = mne.time_frequency.psd_array_multitaper(\n",
    "            x = ieeg['data'][SGi],\n",
    "            sfreq = ieeg['srate'])\n",
    "        \n",
    "        ieeg['psd_freqs'].append(tmp_freqs)\n",
    "        ieeg['psd_pow'].append(tmp_analytic)\n",
    "    \n",
    "    # Plot data\n",
    "    for SGi in range(len(ieeg['data'])):\n",
    "        ax[SGi,0].plot(ieeg['time'],ieeg['data'][0],'r')\n",
    "        if SGi>0:\n",
    "            ax[SGi,0].plot(ieeg['time'],ieeg['data'][SGi])\n",
    "        ax[SGi,0].set_title(ieeg['type'][SGi])\n",
    "        ax[SGi,0].set_xlabel('Time (s)')\n",
    "        ax[SGi,0].set_ylabel('Amplitude')\n",
    "        ax[SGi,0].grid()\n",
    "        \n",
    "        ax[SGi,1].plot(ieeg['psd_freqs'][0],ieeg['psd_pow'][0],'r')                \n",
    "        if SGi>0:\n",
    "            ax[SGi,1].plot(ieeg['psd_freqs'][SGi],ieeg['psd_pow'][SGi])\n",
    "        ax[SGi,1].set_xlabel('Frequency (Hz)')\n",
    "        ax[SGi,1].set_ylabel('Amplitude')\n",
    "        ax[SGi,1].set_yscale(\"log\")\n",
    "        ax[SGi,1].grid()\n",
    "        ax[SGi,1].set_xlim(0,100)\n",
    "    return fig\n"
   ]
  },
  {
   "cell_type": "markdown",
   "id": "6a9de4fa-bb15-44d2-a036-ebd09e71b72a",
   "metadata": {},
   "source": [
    "Plot final signal with all \"true\" brain signals and artifacts:\n",
    "* Red: final artificial signal (sum of all signals)\n",
    "* Blue: specific signal components that are added to form the red signal"
   ]
  },
  {
   "cell_type": "code",
   "execution_count": null,
   "id": "7e38dd1a-1ce9-488c-bc4e-39f691259be8",
   "metadata": {},
   "outputs": [],
   "source": [
    "fig = plot_multichannel_eeg_psd(ieeg)\n",
    "fig.set_size_inches(15,20)\n",
    "fig.set_dpi(60)\n",
    "fig.tight_layout()"
   ]
  },
  {
   "cell_type": "markdown",
   "id": "fbf8f233-c928-420f-8dd7-84602d662948",
   "metadata": {},
   "source": [
    "Explore single signals"
   ]
  },
  {
   "cell_type": "code",
   "execution_count": null,
   "id": "5b7c83b4-999b-4088-8e67-6e091f00ce8c",
   "metadata": {},
   "outputs": [],
   "source": [
    "fig = plot_eeg_psd(ieeg,0)\n",
    "fig.set_size_inches(15,5)\n",
    "fig.set_dpi(60)\n",
    "fig.tight_layout()"
   ]
  },
  {
   "cell_type": "markdown",
   "id": "db833776-16af-4ae5-abfa-3742aee749fe",
   "metadata": {},
   "source": [
    "ASSIGNMENT: plot each artifact separately"
   ]
  },
  {
   "cell_type": "code",
   "execution_count": null,
   "id": "cbd8df50-ccc5-4772-af7c-b0ee4cbfa39f",
   "metadata": {},
   "outputs": [],
   "source": [
    "# ASSIGNMENT:\n",
    "# => hint: use the above function to access the different signal in ieeg"
   ]
  },
  {
   "cell_type": "markdown",
   "id": "e458292b-1a8c-40a6-a4ea-e6515ea69315",
   "metadata": {},
   "source": [
    "### Artifact removal"
   ]
  },
  {
   "cell_type": "markdown",
   "id": "9404fde7-ebdb-4aa6-b03e-0fb14e74ebb4",
   "metadata": {},
   "source": [
    "#### Filtering\n",
    "Types of filters:\n",
    "* High-pass\n",
    "* Low-pass\n",
    "* Band-pass\n",
    "* Notch\n",
    "\n",
    "Additional information on filtering:\n",
    "* de Cheveigné, A., & Nelken, I. (2019). Filters: When, Why, and How (Not) to Use Them. Neuron, 102(2), 280–293.\n",
    "https://doi.org/10.1016/j.neuron.2019.02.039\n",
    "* Filtering tutorial: https://mne.tools/stable/auto_tutorials/preprocessing/25_background_filtering.html\n",
    "\n"
   ]
  },
  {
   "cell_type": "code",
   "execution_count": null,
   "id": "2b155a85-c35c-4446-91ea-6e6feae9fece",
   "metadata": {},
   "outputs": [],
   "source": [
    "#%% Keep only previously generated signal\n",
    "ieeg_filt = copy.deepcopy(ieeg)\n",
    "\n",
    "ieeg_filt['data']= [ieeg_filt['data'][0]]\n",
    "ieeg_filt['type'] = ['Original']"
   ]
  },
  {
   "cell_type": "markdown",
   "id": "76f2d6da-2b85-45d0-b865-3de06341c45c",
   "metadata": {},
   "source": [
    "Apply different types of filters"
   ]
  },
  {
   "cell_type": "code",
   "execution_count": null,
   "id": "59761418-c1a7-423e-a037-7ede013d7e98",
   "metadata": {},
   "outputs": [],
   "source": [
    "# Apply different types of filters\n",
    "ieeg_filt['type'].append('High-pass')\n",
    "ieeg_filt['data'].append(\n",
    "    mne.filter.filter_data(ieeg_filt['data'][0],\n",
    "                           sfreq=ieeg_filt['srate'],\n",
    "                           l_freq = 10,\n",
    "                           h_freq = None))\n",
    "\n",
    "ieeg_filt['type'].append('Low-pass')\n",
    "ieeg_filt['data'].append(\n",
    "    mne.filter.filter_data(ieeg_filt['data'][0],\n",
    "                           sfreq=ieeg['srate'],\n",
    "                           l_freq = None,\n",
    "                           h_freq = 25))\n",
    "\n",
    "ieeg_filt['type'].append('Band-pass')\n",
    "ieeg_filt['data'].append(\n",
    "    mne.filter.filter_data(ieeg_filt['data'][0],\n",
    "                           sfreq=ieeg_filt['srate'],\n",
    "                           l_freq = 10,\n",
    "                           h_freq = 25))\n",
    "\n",
    "ieeg_filt['type'].append('Notch')\n",
    "ieeg_filt['data'].append(\n",
    "    mne.filter.notch_filter(ieeg_filt['data'][0],\n",
    "                            Fs=ieeg_filt['srate'],\n",
    "                            freqs=[50]))\n"
   ]
  },
  {
   "cell_type": "markdown",
   "id": "08f47005-0232-4600-bce2-36c952ca8515",
   "metadata": {},
   "source": [
    "Plot the effect of distinct filters:\n",
    "* Red: original signal\n",
    "* Blue: signal after filtering\n"
   ]
  },
  {
   "cell_type": "code",
   "execution_count": null,
   "id": "7e8b45f5-393d-42e0-aa52-3cd4867d80f5",
   "metadata": {},
   "outputs": [],
   "source": [
    "fig = plot_multichannel_eeg_psd(ieeg_filt)\n",
    "fig.set_size_inches(15,10)\n",
    "fig.tight_layout()"
   ]
  },
  {
   "cell_type": "markdown",
   "id": "0f146c42-c259-4313-a501-a6bc6c749425",
   "metadata": {},
   "source": [
    "ASSIGNMENT:\n",
    "* Combine different filters to clean the signal \n",
    "* Plot the result"
   ]
  },
  {
   "cell_type": "code",
   "execution_count": null,
   "id": "6775f8bd-6b82-4f16-8dc0-6e529896e2a4",
   "metadata": {},
   "outputs": [],
   "source": [
    "# ASSIGNMENT\n",
    "# => hint: adjust l_freq, h_freq, and freqs in following code\n",
    "# Keep only the summed signal with artifacts\n",
    "ieeg_clean = copy.deepcopy(ieeg)\n",
    "ieeg_clean['data']= [ieeg_clean['data'][0]]\n",
    "ieeg_clean['type'] = ['Cleaned']\n",
    "\n",
    "# Filter the signal\n",
    "ieeg_clean['data'][0] = mne.filter.filter_data(ieeg_clean['data'][0],\n",
    "                           sfreq=ieeg_clean['srate'],\n",
    "                           l_freq = 0,\n",
    "                           h_freq = 200)\n",
    "\n",
    "\n",
    "ieeg_clean['data'][0] = mne.filter.notch_filter(ieeg_clean['data'][0],\n",
    "                            Fs=ieeg_clean['srate'],\n",
    "                            freqs=[200])\n",
    "\n",
    "\n",
    "fig = plot_eeg_psd(ieeg_clean,0)\n",
    "fig.set_size_inches(15,5)"
   ]
  },
  {
   "cell_type": "markdown",
   "id": "7cd02639-7345-45b4-9bd9-64ab5fc9d388",
   "metadata": {},
   "source": [
    "#### Filter artifacts\n",
    "Filtering can introduce artifacts which may look like biologicas signals. E.g. ringing\n",
    "\n",
    "Create and plot an artificial signal"
   ]
  },
  {
   "cell_type": "code",
   "execution_count": null,
   "id": "ef069d4d-fb8d-4375-8f78-4f71ee3929b8",
   "metadata": {},
   "outputs": [],
   "source": [
    "# Create a signal with a strong artifact => boxcar\n",
    "artifact = {}\n",
    "\n",
    "artifact['srate'] = 1000\n",
    "artifact['dur']  = 10\n",
    "\n",
    "artifact['time'] = np.arange(0,artifact['dur']*artifact['srate'])/artifact['srate']\n",
    "\n",
    "artifact['data'] = [np.zeros(artifact['time'].shape)]\n",
    "artifact['type'] = ['jump']\n",
    "\n",
    "artifact_times = [4,6]\n",
    "    \n",
    "artifact['data'][0][((artifact['time']>min(artifact_times)) &\n",
    "              (artifact['time'] < max(artifact_times)))] = artifact['data'][0][((artifact['time']>min(artifact_times)) &\n",
    "                            (artifact['time'] < max(artifact_times)))]+1\n"
   ]
  },
  {
   "cell_type": "code",
   "execution_count": null,
   "id": "e6c24be2-0802-48ef-b493-508e19752415",
   "metadata": {},
   "outputs": [],
   "source": [
    "fig = plot_eeg_psd(artifact)\n",
    "                                                                     \n",
    "fig.set_size_inches(15,5)\n",
    "fig.tight_layout()\n"
   ]
  },
  {
   "cell_type": "markdown",
   "id": "c65ac94f-e709-4a37-8519-634878a30f94",
   "metadata": {},
   "source": [
    "Filter the signal and plot the result:\n",
    "* Red: original signal\n",
    "* Blue: filtered signal"
   ]
  },
  {
   "cell_type": "code",
   "execution_count": null,
   "id": "c7c1896b-8eb4-48cf-ace3-da7ab06b7b1c",
   "metadata": {},
   "outputs": [],
   "source": [
    "#%% Filter the signal to see/create artifacts\n",
    "artifact_filt = copy.deepcopy(artifact)\n",
    "\n",
    "artifact_filt['type'].append('High-pass')\n",
    "artifact_filt['data'].append(\n",
    "    mne.filter.filter_data(artifact_filt['data'][0],\n",
    "                           sfreq=artifact_filt['srate'],\n",
    "                           l_freq = 10,\n",
    "                           h_freq = None))\n",
    "\n",
    "artifact_filt['type'].append('Low-pass')\n",
    "artifact_filt['data'].append(\n",
    "    mne.filter.filter_data(artifact_filt['data'][0],\n",
    "                           sfreq=artifact['srate'],\n",
    "                           l_freq = None,\n",
    "                           h_freq = 25))\n",
    "\n",
    "artifact_filt['type'].append('Band-pass')\n",
    "artifact_filt['data'].append(\n",
    "    mne.filter.filter_data(artifact_filt['data'][0],\n",
    "                           sfreq=artifact_filt['srate'],\n",
    "                           l_freq = 10,\n",
    "                           h_freq = 25))\n",
    "\n",
    "\n",
    "\n",
    "\n",
    "fig = plot_multichannel_eeg_psd(artifact_filt)\n",
    "\n",
    "fig.set_size_inches(15,10)\n",
    "fig.tight_layout()\n"
   ]
  },
  {
   "cell_type": "markdown",
   "id": "29232691-abb9-4593-9d97-96ad885cf129",
   "metadata": {},
   "source": [
    "# PREPROCESSING: Practical example"
   ]
  },
  {
   "cell_type": "markdown",
   "id": "6c63ac09-a81d-4468-8ae7-7fe0d9052469",
   "metadata": {},
   "source": [
    "Download intracranial eeg data from Fedele et al., 2017, Scientific Reports.\n",
    "* Data repository: https://openneuro.org/datasets/ds003498/versions/1.0.1\n",
    "* Original publication: *Fedele T, Burnos S, Boran E, Krayenbühl N, Hilfiker P, Grunwald T, Sarnthein J. Resection of high frequency oscillations predicts seizure outcome in the individual patient. Scientific Reports. 2017;7(1):13836. https://www.nature.com/articles/s41598-017-13064-1 doi:10.1038/s41598-017-13064-1*\n",
    "\n",
    "Use MNE to process the data:\n",
    "* https://mne.tools/stable/index.html"
   ]
  },
  {
   "cell_type": "code",
   "execution_count": null,
   "id": "2a2eca0f-4bda-4f29-bb88-e349673012fb",
   "metadata": {},
   "outputs": [],
   "source": [
    "import requests\n",
    "\n",
    "\n",
    "# Dataset: events\n",
    "url = \"https://openneuro.org/crn/datasets/ds003498/snapshots/1.0.1/files/sub-01:ses-interictalsleep:ieeg:sub-01_ses-interictalsleep_run-01_events.tsv\"\n",
    "r = requests.get(url, allow_redirects=True)\n",
    "open('sub-01_ses-interictalsleep_run-01_events.tsv', 'wb').write(r.content)\n",
    "\n",
    "\n",
    "# Dataset: channel info\n",
    "url = \"https://openneuro.org/crn/datasets/ds003498/snapshots/1.0.1/files/sub-01:ses-interictalsleep:ieeg:sub-01_ses-interictalsleep_run-01_channels.tsv\"\n",
    "r = requests.get(url, allow_redirects=True)\n",
    "open('sub-01_ses-interictalsleep_run-01_channels.tsv', 'wb').write(r.content)\n",
    "\n",
    "\n",
    "# Dataset: header\n",
    "url = \"https://openneuro.org/crn/datasets/ds003498/snapshots/1.0.1/files/sub-01:ses-interictalsleep:ieeg:sub-01_ses-interictalsleep_run-01_ieeg.vhdr\"\n",
    "r = requests.get(url, allow_redirects=True)\n",
    "open('sub-01_ses-interictalsleep_run-01_ieeg.vhdr', 'wb').write(r.content)\n",
    "\n",
    "# Dataset: marker\n",
    "url = \"https://openneuro.org/crn/datasets/ds003498/snapshots/1.0.1/files/sub-01:ses-interictalsleep:ieeg:sub-01_ses-interictalsleep_run-01_ieeg.vmrk\"\n",
    "r = requests.get(url, allow_redirects=True)\n",
    "open('sub-01_ses-interictalsleep_run-01_ieeg.vmrk', 'wb').write(r.content)\n",
    "\n",
    "# Dataset: eeg\n",
    "url = \"https://openneuro.org/crn/datasets/ds003498/snapshots/1.0.1/files/sub-01:ses-interictalsleep:ieeg:sub-01_ses-interictalsleep_run-01_ieeg.eeg\"\n",
    "r = requests.get(url, allow_redirects=True)\n",
    "open('sub-01_ses-interictalsleep_run-01_ieeg.eeg', 'wb').write(r.content)\n",
    "\n"
   ]
  },
  {
   "cell_type": "markdown",
   "id": "a29d57af-9b7f-4d15-bcba-a5823653acef",
   "metadata": {},
   "source": [
    "Import the data using mne:"
   ]
  },
  {
   "cell_type": "code",
   "execution_count": null,
   "id": "3d1f66fe-2589-4f48-8c40-b4f4426f8bd2",
   "metadata": {},
   "outputs": [],
   "source": [
    "ieeg = mne.io.read_raw_brainvision('sub-01_ses-interictalsleep_run-01_ieeg.vhdr',preload=True)\n",
    "ieeg.annotations.crop(0,0)\n",
    "ieeg.info"
   ]
  },
  {
   "cell_type": "markdown",
   "id": "a78aac42-5671-4b8c-8ee7-911d340bd8d2",
   "metadata": {},
   "source": [
    "## Visual inspection"
   ]
  },
  {
   "cell_type": "markdown",
   "id": "1c2f05e8-f4cd-41ed-ab93-277a2dfcd5aa",
   "metadata": {},
   "source": [
    "Plot first 10 s of raw data of all channels"
   ]
  },
  {
   "cell_type": "code",
   "execution_count": null,
   "id": "669c4d76-bce0-4ca8-b85b-c62294a161ee",
   "metadata": {},
   "outputs": [],
   "source": [
    "# set browser backend to matplotlib => no popup\n",
    "mne.viz.set_browser_backend('matplotlib')"
   ]
  },
  {
   "cell_type": "code",
   "execution_count": null,
   "id": "1d72f952-d19b-45c0-bfb3-d6d62ef89595",
   "metadata": {},
   "outputs": [],
   "source": [
    "# Plot data\n",
    "fig = mne.viz.plot_raw(\n",
    "    ieeg,\n",
    "    duration=10.0,\n",
    "    start=0.0,\n",
    "    n_channels=50,\n",
    "    show=False,\n",
    "    scalings={'eeg':0.0001})\n",
    "\n",
    "fig.set_size_inches(15,10)"
   ]
  },
  {
   "cell_type": "markdown",
   "id": "d7b338d5-e75e-4756-a14f-5cca898f4614",
   "metadata": {},
   "source": [
    "Keep only data from macroelectrode targeting the left amydgala (AL1-8)"
   ]
  },
  {
   "cell_type": "code",
   "execution_count": null,
   "id": "72900650-4dee-4426-a191-5e7cccedb732",
   "metadata": {},
   "outputs": [],
   "source": [
    "ieeg_AL = ieeg.copy().pick_channels(['AL1','AL2','AL3','AL4','AL5','AL6','AL7','AL8'])"
   ]
  },
  {
   "cell_type": "markdown",
   "id": "bc24497a-2837-4cda-a29b-091ecdd6831d",
   "metadata": {},
   "source": [
    "Plot raw data from left amydgala"
   ]
  },
  {
   "cell_type": "code",
   "execution_count": null,
   "id": "8ce2b6d4-fd15-4f72-be5a-7a1aa45882a8",
   "metadata": {},
   "outputs": [],
   "source": [
    "# Plot data\n",
    "fig = mne.viz.plot_raw(\n",
    "    ieeg_AL,\n",
    "    duration=10.0,\n",
    "    start=0.0,\n",
    "    n_channels=50,\n",
    "    show=False,\n",
    "    scalings={'eeg':0.0001})\n",
    "\n",
    "fig.set_size_inches(15,10)"
   ]
  },
  {
   "cell_type": "markdown",
   "id": "837cfcda-baf7-4b7b-b2f5-7e2eb3f59432",
   "metadata": {},
   "source": [
    "ASSIGNMENT: explore other segments of the data"
   ]
  },
  {
   "cell_type": "code",
   "execution_count": null,
   "id": "50fc9615-eab0-44c9-9f4e-d9ef12d318dd",
   "metadata": {},
   "outputs": [],
   "source": [
    "# ASSIGNMENT\n",
    "# => hint: use the above code, but change the start and duration parameters"
   ]
  },
  {
   "cell_type": "markdown",
   "id": "d578e621-a4ed-45ae-959b-2de66f71c2c6",
   "metadata": {},
   "source": [
    "Plot PSD of raw data:\n",
    "* Use welch method:\n",
    "    * Segment data into 2s windows that overlap by 90%\n",
    "    * Compute PSD for each segment, and average\n",
    "    \n",
    "    "
   ]
  },
  {
   "cell_type": "code",
   "execution_count": null,
   "id": "837de0e6-1460-498f-b7e9-102cbe19a147",
   "metadata": {},
   "outputs": [],
   "source": [
    "fig = ieeg_AL.plot_psd(\n",
    "    n_fft = int(2*ieeg_AL.info.get('sfreq')),          # => length of segments: 2* sampling frequency\n",
    "    n_overlap = int(0.9*2*ieeg_AL.info.get('sfreq')),   # => overlap of segments: 0.9 (90%) of 2s windows\n",
    "    show=False\n",
    ")\n",
    "fig.set_size_inches(15,5)"
   ]
  },
  {
   "cell_type": "markdown",
   "id": "6c7a54b9-d49a-4273-bf9a-5a3f60bcf78b",
   "metadata": {},
   "source": [
    "Visual inspection of the raw data reveals that:\n",
    "* Channel 8 has no biological signal, is flat => drop\n",
    "* All other channels are highly correlated, and that all channels have similar noise peaks in the PSD => shared noise component => re-reference data"
   ]
  },
  {
   "cell_type": "markdown",
   "id": "ffbc5e89-d2b2-41ac-a479-61e80367bf98",
   "metadata": {},
   "source": [
    "Drop channel \"AL8\":"
   ]
  },
  {
   "cell_type": "code",
   "execution_count": null,
   "id": "dea541b4-c1a1-4738-aadc-911a3bb4736c",
   "metadata": {},
   "outputs": [],
   "source": [
    "ieeg_AL.drop_channels('AL8')"
   ]
  },
  {
   "cell_type": "markdown",
   "id": "3343071f-0145-438e-964d-d386ec4a37d3",
   "metadata": {},
   "source": [
    "Re-reference the EEG to the common average of all channels:\n",
    "* Compute the mean of all channels at each sample\n",
    "* Subtract this mean from each single channel at each sampel\n",
    "* => this removes the shared information from all channels (shared information: most likely noise)"
   ]
  },
  {
   "cell_type": "code",
   "execution_count": null,
   "id": "06503771-4e8d-4f00-8912-d50be5039735",
   "metadata": {},
   "outputs": [],
   "source": [
    "ieeg_AL.set_eeg_reference(ref_channels='average')"
   ]
  },
  {
   "cell_type": "markdown",
   "id": "0a997cba-8132-4a63-87ec-67347d9cf0c0",
   "metadata": {},
   "source": [
    "Plot re-referenced data from left amydgala"
   ]
  },
  {
   "cell_type": "code",
   "execution_count": null,
   "id": "775c53f7-50ab-43ae-83cb-b776ec44ff7c",
   "metadata": {},
   "outputs": [],
   "source": [
    "# Plot data\n",
    "fig = mne.viz.plot_raw(\n",
    "    ieeg_AL,\n",
    "    duration=10.0,\n",
    "    start=0.0,\n",
    "    n_channels=50,\n",
    "    show=False,\n",
    "    scalings={'eeg':0.0001})\n",
    "fig.set_size_inches(15,10)"
   ]
  },
  {
   "cell_type": "markdown",
   "id": "01398d14-a10d-4e40-b961-967d5e5f8a83",
   "metadata": {},
   "source": [
    "Plot PSD for rereferenced data from left amygdala"
   ]
  },
  {
   "cell_type": "code",
   "execution_count": null,
   "id": "3756f716-1683-40d8-9c60-8e350e08cdad",
   "metadata": {},
   "outputs": [],
   "source": [
    "fig = ieeg_AL.plot_psd(\n",
    "    n_fft = int(2*ieeg_AL.info.get('sfreq')),          # => length of segments: 2* sampling frequency\n",
    "    n_overlap = int(0.9*2*ieeg_AL.info.get('sfreq')),   # => overlap of segments: 0.9 (90%) of 2s windows\n",
    "    show=False\n",
    ")\n",
    "fig.set_size_inches(15,5)"
   ]
  },
  {
   "cell_type": "markdown",
   "id": "e171227e-aa5d-4bbf-87d1-9d503943bf19",
   "metadata": {},
   "source": [
    "Focus PSD on frequncies < 200 Hz"
   ]
  },
  {
   "cell_type": "code",
   "execution_count": null,
   "id": "073998fb-b7c0-44d9-bd07-a9536d887543",
   "metadata": {},
   "outputs": [],
   "source": [
    "fig = ieeg_AL.plot_psd(\n",
    "    n_fft = int(2*ieeg_AL.info.get('sfreq')),          # => length of segments: 2* sampling frequency\n",
    "    n_overlap = int(0.9*2*ieeg_AL.info.get('sfreq')),  # => overlap of segments: 0.9 (90%) of 2s windows\n",
    "    fmax = 200,                                         # => show data < 200 Hz\n",
    "    show = False\n",
    ")\n",
    "fig.set_size_inches(15,5)"
   ]
  },
  {
   "cell_type": "markdown",
   "id": "53539fd4-eeb1-4327-aa75-8498371fd3eb",
   "metadata": {},
   "source": [
    "Visual inspection of re-referenced data reveals: \n",
    "* Most artifacts that were visible in the PSD are gone\n",
    "* All channels show similar spectral compositions"
   ]
  },
  {
   "cell_type": "markdown",
   "id": "170bdf95-2bac-4d58-bc86-58324ca913fb",
   "metadata": {},
   "source": [
    "## Channel statistics"
   ]
  },
  {
   "cell_type": "markdown",
   "id": "1fee193c-3bb0-4d55-ac73-23c3f112056b",
   "metadata": {},
   "source": [
    "Compute and report simple descriptive statistics for all channels:\n",
    "* Mean of signal in time (should be == 0)\n",
    "* Standard deviation of signal in time (should be similar across channels)\n",
    "* Maximum absolute amplitude in each channel (should be similar across channel)\n",
    "* Same statistics for 1st derivative (\"diff\") of signal (the change in amplituds between sample)\n",
    "    * ...\n",
    "* Normalize values by standard deviation to highlight outlier-channel\n",
    "\n",
    "\n",
    "Observation:\n",
    "* all channels have similar statistics (all statistics within +/- 2 stds) => no clear outlier"
   ]
  },
  {
   "cell_type": "code",
   "execution_count": null,
   "id": "9754bc62-decc-43ee-b199-ee535cf2101b",
   "metadata": {},
   "outputs": [],
   "source": [
    "# Compute statistics for each channel, make data frame\n",
    "channel_stats = pd.DataFrame({\n",
    "    'channel': ieeg_AL.ch_names,\n",
    "    'signal_mean':np.mean(ieeg_AL.get_data(),axis=1),\n",
    "    'signal_std': np.std(ieeg_AL.get_data(),axis=1),\n",
    "    'signal_max': np.max(np.abs(ieeg_AL.get_data()),axis=1),\n",
    "    'signaldiff_mean': np.mean(np.diff(ieeg_AL.get_data(),axis=1),axis=1),\n",
    "    'signaldiff_std': np.std(np.diff(ieeg_AL.get_data(),axis=1),axis=1),\n",
    "    'signaldiff_max': np.max(np.abs(np.diff(ieeg_AL.get_data(),axis=1)),axis=1),\n",
    "})\n",
    "\n",
    "\n",
    "# Normalize\n",
    "channel_stats_norm = channel_stats.drop(columns=['channel'])\n",
    "channel_stats_norm = (channel_stats_norm-channel_stats_norm.mean())/channel_stats_norm.std()\n",
    "\n",
    "channel_stats_norm['channel'] = channel_stats['channel']\n",
    "\n",
    "channel_stats_norm.set_index('channel',inplace=True)\n",
    "\n",
    "\n",
    "channel_stats_norm"
   ]
  },
  {
   "cell_type": "code",
   "execution_count": null,
   "id": "ce82935a-b397-433a-a892-70704ea87b7f",
   "metadata": {},
   "outputs": [],
   "source": [
    "fig, ax = plt.subplots(figsize= (15,10))\n",
    "channel_stats_norm.plot(subplots = True,\n",
    "                        ax = ax,\n",
    "                        grid = True,\n",
    "                        ylim=[-2, 2])\n"
   ]
  },
  {
   "cell_type": "markdown",
   "id": "6f48d710-5100-4ba9-8b9d-8bd37c5496e1",
   "metadata": {
    "tags": []
   },
   "source": [
    "# FEATURE EXTRACTION\n",
    "Once the signal is cleaned, we can extract specific features that can be used for further analyses (e.g. machine learning, or statistical testing)\n",
    "\n",
    "Possible relevant features (to be discussed in the lecture):\n",
    "* Power spectral density of a channel, segment, ...\n",
    "* Time-frequency analyses\n",
    "* Instantaneous phase and power:\n",
    "  * => Phase-amplitude coupling\n",
    "  * => Phase coherence\n",
    "* Measures of coherence/connectivity (in the time-domain, in the spectral domain)\n",
    "  * => network analyses\n",
    "* Measures of signal complexity\n",
    "* Distinct events:\n",
    "  * High-frequency oscillation bursts\n",
    "  * Single neuornal spikes\n",
    "* ...  \n",
    "\n",
    "Here, we can only touch a few features."
   ]
  },
  {
   "cell_type": "markdown",
   "id": "1b496bbd-d898-47cb-b5c5-b7cefe6900d0",
   "metadata": {},
   "source": [
    "## Power spectral density (PSD)\n",
    "* A time-series can be described as a sum of oscillations of different frequencies that all have different amplitudes\n",
    "* Inspecting the different frequency contents (the amplitudes different frequencies have) can provide information about the source from which the signal is recorded.\n",
    " \n",
    "For examples, see above"
   ]
  },
  {
   "cell_type": "markdown",
   "id": "0a1b4be1-72b3-4856-b841-ebb9e190418c",
   "metadata": {},
   "source": [
    "## Time-frequency analysis (TFA)"
   ]
  },
  {
   "cell_type": "markdown",
   "id": "e09df28e-9812-42db-bb1c-ffa285c36571",
   "metadata": {},
   "source": [
    "Definition: in time-frequency analyses, the signal in the time domain is transformed into the frequency domain for short subsegements of the original signal. This allows exploring how the spectral composition of the signal varies across time.\n",
    " \n",
    "Basic principle:\n",
    "* Cut the raw data into short (overlapping) segments\n",
    "* Transform each segment to the frequency domain => PSD\n",
    "* Assess how the spectral composition varies over time"
   ]
  },
  {
   "cell_type": "markdown",
   "id": "2f85293f-cef5-4ca7-9a59-6b7bbef2463e",
   "metadata": {},
   "source": [
    "### Example"
   ]
  },
  {
   "cell_type": "markdown",
   "id": "77a00609-be4e-4770-9871-e83735efb00a",
   "metadata": {},
   "source": [
    "Create an artificial signal:\n",
    "* Sampling rate: 1000 Hz\n",
    "* Duration: 5s\n",
    "* Background eeg activity: pink noise\n",
    "* 10 Hz sine wave burst from 2-3 seconds\n",
    "* Continuous 20 Hz oscillation\n",
    "* Chirp starting at 20 Hz with linare increase in frequency"
   ]
  },
  {
   "cell_type": "code",
   "execution_count": null,
   "id": "68a130bf-36ec-47e8-8315-d8cf9d6a507a",
   "metadata": {},
   "outputs": [],
   "source": [
    "#%% Create artificial data\n",
    "ieeg = {}\n",
    "ieeg['srate'] = 1000\n",
    "ieeg['dur']  = 5\n",
    "ieeg['time'] = np.arange(0,ieeg['dur']*ieeg['srate'])/ieeg['srate']\n",
    "\n",
    "ieeg['data'] = []\n",
    "ieeg['type'] = []\n",
    "\n",
    "# add some pink-noise\n",
    "ieeg['type'].append('ieeg')\n",
    "ieeg['data'].append(acoustics.generator.noise(\n",
    "    N=len(ieeg['time']),        # 10`000 samples\n",
    "    color='pink',  \n",
    "    state=np.random.RandomState(seed=2022) # seed for random numbers generator\n",
    "    ))\n",
    "\n",
    "# add 10 Hz sine wave burst\n",
    "ieeg['data'][0][\n",
    "    (ieeg['time']>2) & (ieeg['time']<3)] = \\\n",
    "    ieeg['data'][0][(ieeg['time']>2) & (ieeg['time']<3)] +\\\n",
    "    5*np.sin(ieeg['time'][(ieeg['time']>2) & (ieeg['time']<3)]*2*np.pi*10)\n",
    "\n",
    "# add 20 Hz fixed wave\n",
    "ieeg['data'][0] = ieeg['data'][0] + 2*np.sin(ieeg['time']*2*np.pi*20)\n",
    "\n",
    "\n",
    "# add a chirp that linearly increases with frequency\n",
    "ieeg['data'][0] = ieeg['data'][0] + 2*np.sin(ieeg['time']*2*np.pi*(20+2*ieeg['time']))\n"
   ]
  },
  {
   "cell_type": "markdown",
   "id": "129ecd0a-a15d-4a54-93d9-729babe6fb13",
   "metadata": {},
   "source": [
    "Plot the artificial signal"
   ]
  },
  {
   "cell_type": "code",
   "execution_count": null,
   "id": "12bffcd7-8189-4442-8996-797c4bd42be9",
   "metadata": {},
   "outputs": [],
   "source": [
    "fig, ax = plt.subplots(figsize=(15,5))\n",
    "ax.plot(ieeg['time'],\n",
    "       ieeg['data'][0])\n",
    "\n",
    "\n",
    "ax.set_xlabel('Time (s)')\n",
    "ax.set_ylabel('Amplitude')\n",
    "ax.grid()"
   ]
  },
  {
   "cell_type": "markdown",
   "id": "bba3548e-39ee-421b-94a5-fcdf1f2d75e9",
   "metadata": {},
   "source": [
    "Perform the time-frequency decomposition:\n",
    "* Perform Morlet wavelet decomposition\n",
    "* Extract power for frequencies from 1 to 50 Hz at 1 Hz steps\n",
    "* Number of wavelet cycles per frequency: Frequency/2 (e.g. 0.5 cyles at 1 Hz, 25 cycles at 50 Hz)"
   ]
  },
  {
   "cell_type": "code",
   "execution_count": null,
   "id": "30c1d811-5409-445e-8be7-25ebac5e63f4",
   "metadata": {},
   "outputs": [],
   "source": [
    "# Decompose the signal\n",
    "ieeg['tfr_freqs'] = np.arange(1,50)         # Frequency resolution of the decomposition\n",
    "ieeg['tfr_ncycles'] = ieeg['tfr_freqs']/2   # Number of cycles (length of window) for which to compute the power at each frequency\n",
    "\n",
    "ieeg['tfr'] = mne.time_frequency.tfr_array_morlet(\n",
    "    epoch_data = ieeg['data'][0][np.newaxis,np.newaxis,:],\n",
    "    sfreq = ieeg['srate'],\n",
    "    freqs= ieeg['tfr_freqs'],\n",
    "    n_cycles=ieeg['tfr_ncycles'])"
   ]
  },
  {
   "cell_type": "markdown",
   "id": "44de4d90-0855-41c0-b702-3645f8cb670a",
   "metadata": {},
   "source": [
    "Plot the decomposition\n",
    "* all signal components become visible: 20 Hz continuous activity, 10 Hz burst, chirp with increasing frequency from 20 to 40 Hz"
   ]
  },
  {
   "cell_type": "code",
   "execution_count": null,
   "id": "eb7b0767-d0c6-47ce-ae79-ee66c4359879",
   "metadata": {},
   "outputs": [],
   "source": [
    "# Plot the decomosition\n",
    "fig, ax = plt.subplots(figsize= (15,5))\n",
    "\n",
    "img = ax.pcolormesh(\n",
    "    ieeg['time'],\n",
    "    ieeg['tfr_freqs'],\n",
    "    np.abs(np.squeeze(ieeg['tfr'])))\n",
    "\n",
    "ax.set_ylabel('Frequency (Hz)')\n",
    "ax.set_xlabel('Time (s)')\n",
    "\n",
    "cb = plt.colorbar(img, ax=ax)\n",
    "cb.set_label('Power')"
   ]
  },
  {
   "cell_type": "markdown",
   "id": "29125e28-e40f-46ca-8b15-b4cc8d62a264",
   "metadata": {},
   "source": [
    "ASSIGNMENT:\n",
    "* Explore what happens if the frequency resolution is increased/decreased\n",
    "* Explore what happens if the number of cycles is alters (e.g. fix numer of cycles for all frequencies)"
   ]
  },
  {
   "cell_type": "code",
   "execution_count": null,
   "id": "de763168-3474-4d78-beeb-39ac3ef65cd3",
   "metadata": {},
   "outputs": [],
   "source": [
    "# ASSIGNMENT:\n",
    "# => hint: modify the following elements of the above code:\n",
    "#   ieeg['tfr_freqs'] = ...\n",
    "#   ieeg['tfr_ncycles'] = ..."
   ]
  },
  {
   "cell_type": "markdown",
   "id": "a3751b0e-b206-4dd6-9c60-bef62b45fb59",
   "metadata": {
    "tags": []
   },
   "source": [
    "### Example"
   ]
  },
  {
   "cell_type": "markdown",
   "id": "8e43089d-3228-4116-9d45-70a023f10bf6",
   "metadata": {},
   "source": [
    "Perform the time-frequency decomposition on real data from Amydgala (channel AL1):\n",
    "* Perform Morlet wavelet decomposition\n",
    "* Extract power for frequencies from 1 to 50 Hz at 1 Hz steps\n",
    "* Number of wavelet cycles per frequency: Frequency/2 (e.g. 0.5 cyles at 1 Hz, 25 cycles at 50 Hz)\n",
    "* Normalize the signal: subtract mean in each frequency, divide by standard deviation"
   ]
  },
  {
   "cell_type": "code",
   "execution_count": null,
   "id": "e2015aed-a24d-4014-a25e-7fd0142fdc06",
   "metadata": {},
   "outputs": [],
   "source": [
    "# Decompose the signal\n",
    "AL_dat = {}\n",
    "AL_dat['tfr_freqs'] = np.arange(1,50)         # Frequency resolution of the decomposition\n",
    "AL_dat['tfr_ncycles'] = AL_dat['tfr_freqs']/2   # Number of cycles (length of window) for which to compute the power at each frequency\n",
    "\n",
    "AL_dat['tfr'] = mne.time_frequency.tfr_array_morlet(\n",
    "    epoch_data = ieeg_AL.get_data('AL1')[np.newaxis,:],\n",
    "    sfreq = ieeg_AL.info.get('sfreq'),\n",
    "    freqs= AL_dat['tfr_freqs'],\n",
    "    n_cycles=AL_dat['tfr_ncycles'])"
   ]
  },
  {
   "cell_type": "code",
   "execution_count": null,
   "id": "a6381402-4d6b-41db-b363-73d62de0f0ac",
   "metadata": {},
   "outputs": [],
   "source": [
    "AL_dat['tfr'] = np.squeeze(AL_dat['tfr'])\n",
    "AL_dat['tfr'] = (AL_dat['tfr']-np.mean(AL_dat['tfr'],axis=1)[:,None])/np.std(AL_dat['tfr'],axis=1)[:,None]"
   ]
  },
  {
   "cell_type": "markdown",
   "id": "7f66ad56-2d06-4dc4-bcf7-394f4a611eee",
   "metadata": {},
   "source": [
    "Plot the decomposition"
   ]
  },
  {
   "cell_type": "code",
   "execution_count": null,
   "id": "5ae971de-ac8f-4802-9500-9a6a68103bc1",
   "metadata": {},
   "outputs": [],
   "source": [
    "# Plot the decomposition\n",
    "fig, ax = plt.subplots( figsize= (15,5))\n",
    "\n",
    "img = ax.pcolormesh(\n",
    "    ieeg_AL.times,\n",
    "    AL_dat['tfr_freqs'],\n",
    "    np.abs(np.squeeze(AL_dat['tfr'])))\n",
    "\n",
    "ax.set_ylabel('Frequency (Hz)')\n",
    "ax.set_xlabel('Time (s)')\n",
    "ax.set_xlim(0,30)\n",
    "\n",
    "cb = plt.colorbar(img, ax=ax)\n",
    "cb.set_label('Power')"
   ]
  },
  {
   "cell_type": "markdown",
   "id": "59313547-7842-4104-a3e9-7418a56f635a",
   "metadata": {},
   "source": [
    "## Instantaneous power, phase, (frequency)"
   ]
  },
  {
   "cell_type": "markdown",
   "id": "03a54f9d-ab2f-496c-a3bb-5dde5ee9bc3d",
   "metadata": {},
   "source": [
    "Definition: Analysis of the time-resolved (i.e., instantaneous) power and phase of a signal in a specific frequency band. \n",
    " \n",
    "Possible aplications:\n",
    "* Assess power fluctuations in a specific frequency range => e.g. is how does beta (20 Hz) power in the motor cortex change during a motor task?\n",
    "* Assess the specific phase of the signal at a given time => e.g. \n",
    "* Assess coherence / connectivity between different channels and or frequencies:\n",
    "    * e.g. does activity (phase) in the delta band (< 4 Hz) modulate activity in the sigma band (12-16 Hz)?\n",
    "    * does the connectivity between two brain signals increase? assess signal coherence in the beta range (coherence between beta phase values, correlation between amplitudes, ...)?"
   ]
  },
  {
   "cell_type": "markdown",
   "id": "98de2a3c-5b48-4145-a709-4c8c0c700484",
   "metadata": {},
   "source": [
    "### Example"
   ]
  },
  {
   "cell_type": "markdown",
   "id": "65b2d945-d8ca-4a43-93dd-d05fac791795",
   "metadata": {},
   "source": [
    "Create an artificial signal:\n",
    "* Sampling rate: 1000 Hz\n",
    "* Duration: 5s\n",
    "* Background eeg activity: pink noise\n",
    "* 10 Hz sine wave burst from 2-3 seconds\n",
    "* Continuous 2 Hz oscillation\n",
    "* 20 Hz oscillatoin that is modulated by 2 Hz oscillation\n",
    "\n"
   ]
  },
  {
   "cell_type": "code",
   "execution_count": null,
   "id": "e55b2414-f8f9-42e3-8e51-4eff8f0892ff",
   "metadata": {},
   "outputs": [],
   "source": [
    "#%% Create artificial data\n",
    "ieeg = {}\n",
    "ieeg['srate'] = 1000\n",
    "ieeg['dur']  = 5\n",
    "ieeg['time'] = np.arange(0,ieeg['dur']*ieeg['srate'])/ieeg['srate']\n",
    "\n",
    "ieeg['data'] = []\n",
    "ieeg['type'] = []\n",
    "\n",
    "# add some pink-noise\n",
    "ieeg['type'].append('ieeg')\n",
    "ieeg['data'].append(acoustics.generator.noise(\n",
    "    N=len(ieeg['time']),        # 10`000 samples\n",
    "    color='pink',  \n",
    "    state=np.random.RandomState(seed=2022) # seed for random numbers generator\n",
    "    ))\n",
    "\n",
    "# add 10 Hz sine wave burst\n",
    "ieeg['data'][0][\n",
    "    (ieeg['time']>2) & (ieeg['time']<3)] = \\\n",
    "    ieeg['data'][0][(ieeg['time']>2) & (ieeg['time']<3)] +\\\n",
    "    5*np.sin(ieeg['time'][(ieeg['time']>2) & (ieeg['time']<3)]*2*np.pi*10)\n",
    "\n",
    "# add 4 Hz fixed wave\n",
    "ieeg['data'][0] = ieeg['data'][0] + 2*np.sin(ieeg['time']*2*np.pi*2)\n",
    "\n",
    "\n",
    "# add a chirp that linearly increases with frequency\n",
    "ieeg['data'][0] = ieeg['data'][0] + 2*np.sin(ieeg['time']*2*np.pi*20)*(1+np.sin(ieeg['time']*2*np.pi*2))\n"
   ]
  },
  {
   "cell_type": "markdown",
   "id": "b610676f-9e2a-4085-84c6-bb0d11a7414c",
   "metadata": {},
   "source": [
    "Plot the artificial signal"
   ]
  },
  {
   "cell_type": "code",
   "execution_count": null,
   "id": "4a01bdf5-6523-4bb8-afdb-e45989fb0fdb",
   "metadata": {},
   "outputs": [],
   "source": [
    "fig, ax = plt.subplots(figsize=(15,5))\n",
    "ax.plot(ieeg['time'],\n",
    "       ieeg['data'][0])\n",
    "\n",
    "\n",
    "ax.set_xlabel('Time (s)')\n",
    "ax.set_ylabel('Amplitude')\n",
    "ax.grid()"
   ]
  },
  {
   "cell_type": "markdown",
   "id": "a1b52905-f6bf-416a-bb5a-9b60ed152273",
   "metadata": {},
   "source": [
    "Perform the time-frequency decomposition:\n",
    "* Perform Morlet wavelet decomposition\n",
    "* Number of wavelet cycles per frequency: Frequency/2 \n",
    "* Extract power for frequencies from 1 to 50 Hz at 1 Hz steps"
   ]
  },
  {
   "cell_type": "code",
   "execution_count": null,
   "id": "bf52cf3b-5fbb-4a4b-b4be-86f236fa4358",
   "metadata": {},
   "outputs": [],
   "source": [
    "# Decompose the signal\n",
    "ieeg['tfr_freqs'] = np.arange(1,50)         # Frequency resolution of the decomposition\n",
    "ieeg['tfr_ncycles'] = ieeg['tfr_freqs']/2   # Number of cycles (length of window) for which to compute the power at each frequency\n",
    "\n",
    "ieeg['tfr'] = mne.time_frequency.tfr_array_morlet(\n",
    "    epoch_data = ieeg['data'][0][np.newaxis,np.newaxis,:],\n",
    "    sfreq = ieeg['srate'],\n",
    "    freqs= ieeg['tfr_freqs'],\n",
    "    n_cycles=ieeg['tfr_ncycles'])"
   ]
  },
  {
   "cell_type": "markdown",
   "id": "257d7e7e-06d6-4add-9ad5-bf9c43b1df6f",
   "metadata": {},
   "source": [
    "Plot the decomposition"
   ]
  },
  {
   "cell_type": "code",
   "execution_count": null,
   "id": "45c396d1-de7c-49ec-a35d-1c8517709943",
   "metadata": {},
   "outputs": [],
   "source": [
    "# Plot the decomosition\n",
    "fig, ax = plt.subplots(figsize= (15,5))\n",
    "\n",
    "img = ax.pcolormesh(\n",
    "    ieeg['time'],\n",
    "    ieeg['tfr_freqs'],\n",
    "    np.abs(np.squeeze(ieeg['tfr'])))\n",
    "\n",
    "ax.set_ylabel('Frequency (Hz)')\n",
    "ax.set_xlabel('Time (s)')\n",
    "\n",
    "cb = plt.colorbar(img, ax=ax)\n",
    "cb.set_label('Power')"
   ]
  },
  {
   "cell_type": "markdown",
   "id": "464f711c-0ea1-4975-b29e-26eaefc4f220",
   "metadata": {},
   "source": [
    "Pefrorm the hilbert transform for 20 Hz oscillations:\n",
    "* Bandpass filter between 18-22 Hz\n",
    "* Get the hilbert transform"
   ]
  },
  {
   "cell_type": "code",
   "execution_count": null,
   "id": "4a971b5d-bca2-495b-bc56-52c542d15c68",
   "metadata": {},
   "outputs": [],
   "source": [
    "#%% Hilbert decomposition\n",
    "sgn_raw     = ieeg['data'][0]\n",
    "sgn_filt    = mne.filter.filter_data(sgn_raw,\n",
    "                           sfreq=ieeg['srate'],\n",
    "                           l_freq = 18,\n",
    "                           h_freq = 22)\n",
    "\n",
    "sgn_hilb20   = sc.signal.hilbert(x=sgn_filt)"
   ]
  },
  {
   "cell_type": "markdown",
   "id": "6b4f4ff8-3646-44e0-a5e7-1b8f75e44ba8",
   "metadata": {},
   "source": [
    "Plot the hilbert transform"
   ]
  },
  {
   "cell_type": "code",
   "execution_count": null,
   "id": "0f27e14b-2c92-4350-9306-32328256d2ca",
   "metadata": {},
   "outputs": [],
   "source": [
    "fig, ax = plt.subplots(nrows = 2,figsize=(15,10))\n",
    "\n",
    "ax[0].plot(ieeg['time'],sgn_raw, label='raw')\n",
    "ax[0].plot(ieeg['time'],sgn_filt,label='bandpass filtered')\n",
    "ax[0].plot(ieeg['time'],np.abs(sgn_hilb20),label='hilbert envelope',color='g')\n",
    "ax[0].legend()\n",
    "ax[0].grid()\n",
    "\n",
    "\n",
    "ax[1].set_ylabel('Amplitude')\n",
    "ax[1].plot(ieeg['time'],np.angle(sgn_hilb20),color='g')\n",
    "ax[1].set_ylabel('Phase')\n",
    "ax[1].grid()"
   ]
  },
  {
   "cell_type": "markdown",
   "id": "eb152a14-c050-4110-aa29-3a5f719f44d3",
   "metadata": {},
   "source": [
    "Pefrorm the hilbert transform for 2 Hz oscillations:\n",
    "* Bandpass filter between 1-3 Hz\n",
    "* Get the hilbert transform"
   ]
  },
  {
   "cell_type": "code",
   "execution_count": null,
   "id": "e540ccf4-fddf-434f-be2f-5d4219ab5e1b",
   "metadata": {},
   "outputs": [],
   "source": [
    "#%% Hilbert decomposition\n",
    "sgn_raw     = ieeg['data'][0]\n",
    "sgn_filt    = mne.filter.filter_data(sgn_raw,\n",
    "                           sfreq=ieeg['srate'],\n",
    "                           l_freq = 1,\n",
    "                           h_freq = 3)\n",
    "\n",
    "sgn_hilb2   = sc.signal.hilbert(x=sgn_filt)"
   ]
  },
  {
   "cell_type": "markdown",
   "id": "0ee7276e-ef1e-4dbd-a173-8191f81c5fd9",
   "metadata": {},
   "source": [
    "Plot the hilbert transform"
   ]
  },
  {
   "cell_type": "code",
   "execution_count": null,
   "id": "202d2ed2-be3d-4a39-896d-8e7906a8889e",
   "metadata": {},
   "outputs": [],
   "source": [
    "fig, ax = plt.subplots(nrows = 2,figsize=(15,10))\n",
    "\n",
    "ax[0].plot(ieeg['time'],sgn_raw, label='raw')\n",
    "ax[0].plot(ieeg['time'],sgn_filt,label='bandpass filtered')\n",
    "ax[0].plot(ieeg['time'],np.abs(sgn_hilb2),label='hilbert envelope',color='g')\n",
    "ax[0].legend()\n",
    "ax[0].grid()\n",
    "\n",
    "\n",
    "ax[1].set_ylabel('Amplitude')\n",
    "ax[1].plot(ieeg['time'],np.angle(sgn_hilb2),color='g')\n",
    "ax[1].set_ylabel('Phase')\n",
    "ax[1].grid()"
   ]
  },
  {
   "cell_type": "markdown",
   "id": "99488b16-cb53-44f8-82c4-cf3667052e5f",
   "metadata": {
    "tags": []
   },
   "source": [
    "## Phase-amplitude coupling\n",
    "Phase amplitude-coupling describes the phenomenon that the activity (amplitude) of a higher frequency (e.g. 20 Hz) is coupled to a specific phase (e.g. the peak) of a lower freqeuency oscillation (e.g. 2 Hz). The phase of a low frequency oscillation thus appears to modulate the amplitude of a high-frequency oscillation.\n",
    "\n",
    "Relevance (see Munia & Aviyente, 2019;  https://doi.org/10.1038/s41598-019-48870-2):\n",
    "* *\"Various forms of neural synchrony between oscillations across different frequency bands have been suggested as the major mechanism of neural integration.\"* \n",
    "* *\"Previous studies based on electrophysiological measurement of neural activity suggest that different frequency bands are responsible for distinct computational roles as oscillations are thought to create synchronization across specialized brain regions to corroborate cognitive processing.\"*\n",
    "* *\"The power and/or the synchronization measured across different frequency bands have been related to various cognitive and neuronal functions.\"*\n",
    "\n",
    "\n",
    "Further reading:\n",
    "* Different measures of PAC: *Combrisson, E., Nest, T., Brovelli, A., Ince, R. A. A., Soto, J. L. P., Guillot, A., & Jerbi, K. (2020). Tensorpac: An open-source Python toolbox for tensor-based phase-amplitude coupling measurement in electrophysiological brain signals. PLOS Computational Biology, 16(10), e1008302. https://doi.org/10.1371/journal.pcbi.1008302*\n",
    "* On the relevance of PAC: *Munia, T. T. K., & Aviyente, S. (2019). Time-frequency based phase-amplitude coupling measure for neuronal oscillations. Scientific Reports, 9(1), 12441. https://doi.org/10.1038/s41598-019-48870-2* "
   ]
  },
  {
   "cell_type": "markdown",
   "id": "1ad7fdeb-2537-4b83-a5c6-fa30fe8ff01a",
   "metadata": {},
   "source": [
    "### Example"
   ]
  },
  {
   "cell_type": "markdown",
   "id": "98de1c62-da25-4a99-9964-5576af0474d4",
   "metadata": {},
   "source": [
    "Create an artificial signal:\n",
    "* Sampling rate: 1000 Hz\n",
    "* Duration: 5s\n",
    "* Background eeg activity: pink noise\n",
    "* 10 Hz sine wave burst from 2-3 seconds\n",
    "* Continuous 2 Hz oscillation\n",
    "* 20 Hz oscillation that is modulated by 2 Hz oscillation => coupling between 2 Hz phase and 20 Hz amplitude\n"
   ]
  },
  {
   "cell_type": "code",
   "execution_count": null,
   "id": "8efe4625-e0d3-4d3f-a356-cc340d85b05a",
   "metadata": {},
   "outputs": [],
   "source": [
    "#%% Create artificial data\n",
    "ieeg = {}\n",
    "ieeg['srate'] = 1000\n",
    "ieeg['dur']  = 5\n",
    "ieeg['time'] = np.arange(0,ieeg['dur']*ieeg['srate'])/ieeg['srate']\n",
    "\n",
    "ieeg['data'] = []\n",
    "ieeg['type'] = []\n",
    "\n",
    "# add some pink-noise\n",
    "ieeg['type'].append('ieeg')\n",
    "ieeg['data'].append(acoustics.generator.noise(\n",
    "    N=len(ieeg['time']),        # 10`000 samples\n",
    "    color='pink',  \n",
    "    state=np.random.RandomState(seed=2022) # seed for random numbers generator\n",
    "    ))\n",
    "\n",
    "# add 10 Hz sine wave burst\n",
    "ieeg['data'][0][\n",
    "    (ieeg['time']>2) & (ieeg['time']<3)] = \\\n",
    "    ieeg['data'][0][(ieeg['time']>2) & (ieeg['time']<3)] +\\\n",
    "    5*np.sin(ieeg['time'][(ieeg['time']>2) & (ieeg['time']<3)]*2*np.pi*10)\n",
    "\n",
    "# add 2 Hz fixed wave\n",
    "ieeg['data'][0] = ieeg['data'][0] + 2*np.sin(ieeg['time']*2*np.pi*2)\n",
    "\n",
    "\n",
    "# Add a 20 Hz oscillation that is modulated by the phase of the 2 Hz oscillation\n",
    "ieeg['data'][0] = (ieeg['data'][0] +                    # current data\n",
    "                   2*np.sin(ieeg['time']*2*np.pi*20)*   # 20 Hz sine wave\n",
    "                   (1+np.sin(ieeg['time']*2*np.pi*2)))  # Multiplied by amplitude of 2 Hz sine wave\n"
   ]
  },
  {
   "cell_type": "markdown",
   "id": "1c5ffadb-218b-4d86-a271-1121cf56611d",
   "metadata": {},
   "source": [
    "Plot the artificial signal"
   ]
  },
  {
   "cell_type": "code",
   "execution_count": null,
   "id": "71b69d65-ffed-43bd-8d3c-d3e7f7532451",
   "metadata": {},
   "outputs": [],
   "source": [
    "fig, ax = plt.subplots(figsize=(15,5))\n",
    "ax.plot(ieeg['time'],\n",
    "       ieeg['data'][0])\n",
    "\n",
    "\n",
    "ax.set_xlabel('Time (s)')\n",
    "ax.set_ylabel('Amplitude')\n",
    "ax.grid()"
   ]
  },
  {
   "cell_type": "markdown",
   "id": "669b3789-2771-4c74-8ee2-15501f60061b",
   "metadata": {},
   "source": [
    "Perform the hilbert transform for the 20 Hz, 2 Hz, and 10 Hz band"
   ]
  },
  {
   "cell_type": "code",
   "execution_count": null,
   "id": "6c132362-9fff-4375-812c-a6c3ad73c633",
   "metadata": {},
   "outputs": [],
   "source": [
    "#%% Hilbert decomposition\n",
    "sgn_raw     = ieeg['data'][0]\n",
    "\n",
    "sgn_filt20    = mne.filter.filter_data(sgn_raw,\n",
    "                           sfreq=ieeg['srate'],\n",
    "                           l_freq = 18,\n",
    "                           h_freq = 22)\n",
    "\n",
    "sgn_hilb20   = sc.signal.hilbert(x=sgn_filt20)\n",
    "\n",
    "sgn_filt2    = mne.filter.filter_data(sgn_raw,\n",
    "                           sfreq=ieeg['srate'],\n",
    "                           l_freq = 1,\n",
    "                           h_freq = 3)\n",
    "\n",
    "sgn_hilb2   = sc.signal.hilbert(x=sgn_filt2)\n",
    "\n",
    "sgn_filt10    = mne.filter.filter_data(sgn_raw,\n",
    "                           sfreq=ieeg['srate'],\n",
    "                           l_freq = 8,\n",
    "                           h_freq = 12)\n",
    "\n",
    "sgn_hilb10   = sc.signal.hilbert(x=sgn_filt10)\n"
   ]
  },
  {
   "cell_type": "markdown",
   "id": "3ce1fe65-6613-43df-891a-54330096ecde",
   "metadata": {},
   "source": [
    "Plot the raw signal, the filtered signal, and the envelopes"
   ]
  },
  {
   "cell_type": "code",
   "execution_count": null,
   "id": "7889c318-593f-4379-af92-30206f0aca14",
   "metadata": {},
   "outputs": [],
   "source": [
    "fig, ax = plt.subplots(nrows=3, ncols= 1, figsize=(15,15))\n",
    "ax[0].plot(ieeg['time'],sgn_raw, label='raw')\n",
    "ax[0].plot(ieeg['time'],sgn_filt2,label='bandpass filtered')\n",
    "ax[0].plot(ieeg['time'],np.abs(sgn_hilb2),label='hilbert envelope',color='g')\n",
    "ax[0].legend()\n",
    "ax[0].grid()\n",
    "ax[0].set_title('2 Hz oscillation')\n",
    "\n",
    "ax[1].plot(ieeg['time'],sgn_raw, label='raw')\n",
    "ax[1].plot(ieeg['time'],sgn_filt10,label='bandpass filtered')\n",
    "ax[1].plot(ieeg['time'],np.abs(sgn_hilb10),label='hilbert envelope',color='g')\n",
    "ax[1].legend()\n",
    "ax[1].grid()\n",
    "ax[1].set_title('10 Hz oscillation')\n",
    "\n",
    "\n",
    "\n",
    "ax[2].plot(ieeg['time'],sgn_raw, label='raw')\n",
    "ax[2].plot(ieeg['time'],sgn_filt20,label='bandpass filtered')\n",
    "ax[2].plot(ieeg['time'],np.abs(sgn_hilb20),label='hilbert envelope',color='g')\n",
    "ax[2].legend()\n",
    "ax[2].grid()\n",
    "ax[2].set_title('20 Hz oscillation')\n",
    "\n",
    "fig.tight_layout()"
   ]
  },
  {
   "cell_type": "markdown",
   "id": "422832d0-ef16-4fd8-8755-1d274bd5b796",
   "metadata": {},
   "source": [
    "Assess how activity at 10 Hz and 20 Hz is coupled to the 2 Hz phase\n",
    "* Bandpasss filter the signal in the respective frequency bans\n",
    "* Extract the instantaneous 2 Hz phase angles and 10 Hz and 20 Hz amplitude for each samples\n",
    "* Assess the coupling between the 2 Hz phase angles and the 10/20 Hz values"
   ]
  },
  {
   "cell_type": "markdown",
   "id": "ca3f108a-4ef0-4c33-877a-dc2face919bd",
   "metadata": {},
   "source": [
    "Make a data frame with the amplitude values at 10 Hz and 20 Hz and the phase angles at 2 Hz for each sample:"
   ]
  },
  {
   "cell_type": "code",
   "execution_count": null,
   "id": "3729977f-69cd-48c3-82ba-adb7ad559f27",
   "metadata": {},
   "outputs": [],
   "source": [
    "phase_amp_data = pd.DataFrame(\n",
    "    {\n",
    "        'phase2Hz': np.angle(sgn_hilb2),\n",
    "        'amp20Hz':np.abs(sgn_hilb20),\n",
    "        'amp10Hz':np.abs(sgn_hilb10)}\n",
    ")"
   ]
  },
  {
   "cell_type": "markdown",
   "id": "85eabaa5-3809-45fd-890b-168720e40728",
   "metadata": {},
   "source": [
    "Group the phase angles into 24 equally sized bins"
   ]
  },
  {
   "cell_type": "code",
   "execution_count": null,
   "id": "bc757b73-5681-4d16-b894-2b14ee023427",
   "metadata": {},
   "outputs": [],
   "source": [
    "phase_amp_data['phase2Hz_bin'] = pd.cut(phase_amp_data['phase2Hz'],24)\n",
    "phase_amp_data['phase2Hz_bincentres'] = phase_amp_data['phase2Hz_bin'].apply(lambda x: x.mid)\n",
    "phase_amp_data"
   ]
  },
  {
   "cell_type": "markdown",
   "id": "d35ae5a7-5778-4a11-8cd2-991f5fd8610b",
   "metadata": {},
   "source": [
    "Compute the mean amplitudes at 10 Hz and 20 Hz for each 2 Hz bin. Normalize the amplitudes in each bin by the sum of of the amplitudes from all bins."
   ]
  },
  {
   "cell_type": "code",
   "execution_count": null,
   "id": "fcc4c6ab-7325-4755-9899-c1bf2799a3a8",
   "metadata": {},
   "outputs": [],
   "source": [
    "phase_amp_data_aggr = phase_amp_data.groupby('phase2Hz_bincentres').mean().reset_index()\n",
    "phase_amp_data_aggr['amp10Hz']= phase_amp_data_aggr['amp10Hz']/sum(phase_amp_data_aggr['amp10Hz'])\n",
    "phase_amp_data_aggr['amp20Hz']= phase_amp_data_aggr['amp20Hz']/sum(phase_amp_data_aggr['amp20Hz'])\n",
    "phase_amp_data_aggr\n",
    "\n"
   ]
  },
  {
   "cell_type": "markdown",
   "id": "f06148a6-c8b3-435d-ae28-478196012ea0",
   "metadata": {},
   "source": [
    "Quantify phase amplitude coupling:\n",
    "* If the 2 Hz oscillation modulates the amplitude of the high-frequency oscillation, high-frequency amplitudes should be significantly higher in specific phase bins of the 2 Hz oscillation\n",
    "* This bias towards a phase can be expressed as \"MODULATION INDEX\": the amplitude of the mean vector computed over all phases and their amplitudes. "
   ]
  },
  {
   "cell_type": "markdown",
   "id": "2d8edaa8-e5fc-40d4-96a2-591ec62f4df0",
   "metadata": {},
   "source": [
    "Compute the mean vector as complex number:"
   ]
  },
  {
   "cell_type": "code",
   "execution_count": null,
   "id": "54fed3e9-cfc1-459e-b6a7-1a05b4cd25ad",
   "metadata": {},
   "outputs": [],
   "source": [
    "MI_2hzX10Hz = np.mean(\n",
    "    phase_amp_data_aggr['amp10Hz'].to_numpy()*np.exp(1j*phase_amp_data_aggr['phase2Hz_bincentres'].to_numpy()))\n",
    "\n",
    "MI_2hzX20Hz = np.mean(\n",
    "    phase_amp_data_aggr['amp20Hz'].to_numpy()*np.exp(1j*phase_amp_data_aggr['phase2Hz_bincentres'].to_numpy()))\n",
    "\n"
   ]
  },
  {
   "cell_type": "markdown",
   "id": "3440b1e2-cde3-4266-8ee4-8af00fa18ea1",
   "metadata": {},
   "source": [
    "Plot amplitudes in each phase on polar coordinate system, add mean vector"
   ]
  },
  {
   "cell_type": "code",
   "execution_count": null,
   "id": "718f5339-6417-48e3-85c7-7f0157de3453",
   "metadata": {},
   "outputs": [],
   "source": [
    "fig = plt.figure(figsize=(15,10))\n",
    "\n",
    "ax = fig.add_subplot(121, projection='polar')\n",
    "\n",
    "ax.bar(x=phase_amp_data_aggr['phase2Hz_bincentres'],\n",
    "       height=phase_amp_data_aggr['amp20Hz'],\n",
    "      width=2*np.pi/24,\n",
    "       linewidth=2, \n",
    "       edgecolor=\"white\")\n",
    "ax.plot([0,np.angle(MI_2hzX20Hz)],\n",
    "        [0,np.abs(MI_2hzX20Hz)],'r',linewidth=2)\n",
    "ax.set_title('Mean 20 Hz amplitude by 2 Hz phase')\n",
    "ax.set_ylim(0,1/12)\n",
    "\n",
    "\n",
    "ax = fig.add_subplot(122, projection='polar')\n",
    "ax.bar(x=phase_amp_data_aggr['phase2Hz_bincentres'],\n",
    "       height= phase_amp_data_aggr['amp10Hz'],\n",
    "       width=2*np.pi/24,\n",
    "       linewidth=2, \n",
    "       edgecolor=\"white\")\n",
    "ax.plot([0,np.angle(MI_2hzX10Hz)],\n",
    "        [0,np.abs(MI_2hzX10Hz)],'r',linewidth=2)\n",
    "ax.set_ylim(0,1/12)\n",
    "\n",
    "ax.set_title('Mean 10 Hz amplitude by 2 Hz phase')"
   ]
  },
  {
   "cell_type": "markdown",
   "id": "ce965f26-aaf1-4e4f-9a6a-2154d012c9ec",
   "metadata": {},
   "source": [
    "### Comodulogram: PAC over range of frequencies\n",
    "The comodulogram illustrates phase-amplitude coupling between phases of an entire range of frequencies (e.g. 1-6 Hz) and amplitudes of an entire range of frequencies (e.g. 7-40 Hz)\n",
    " \n",
    "The package \"tensorpac\" (https://etiennecmb.github.io/tensorpac/) provides efficient and robust methods for PAC analyses.\n",
    "\n"
   ]
  },
  {
   "cell_type": "markdown",
   "id": "eec3b4ca-eddb-4b61-bd35-bb55b74c7c30",
   "metadata": {},
   "source": [
    "Compute comodulogram for artificial data:"
   ]
  },
  {
   "cell_type": "code",
   "execution_count": null,
   "id": "b5ad7f44-5383-4169-bd59-ed1eb9c0384a",
   "metadata": {},
   "outputs": [],
   "source": [
    "import tensorpac\n",
    "\n",
    "# Define a Pac object\n",
    "p = tensorpac.Pac(idpac=(6,0,0), f_pha=(1,6,0.5,0.1), f_amp=(6,40,1,0.5))\n",
    "# Filter the data and extract pac\n",
    "xpac = p.filterfit(1000, sgn_raw)\n",
    "\n",
    "# Prpare figure\n",
    "fig, ax = plt.subplots(figsize=(15,10))\n",
    "\n",
    "\n",
    "# plot Phase-Amplitude Coupling :\n",
    "ax = p.comodulogram(xpac.mean(-1), cmap='Spectral_r', plotas='contour', ncontours=20,\n",
    "               title=r'2hz phase$\\Leftrightarrow$20Hz amplitude coupling',\n",
    "               fz_title=14, fz_labels=13)\n",
    "\n",
    "p.show()"
   ]
  },
  {
   "cell_type": "markdown",
   "id": "7d5b68ec-c4e9-4316-aaa4-0b28d94705df",
   "metadata": {},
   "source": [
    "Compute comodulogram data from the Amygdala ('AL1'):\n",
    "* coupling between 1 Hz phase and 20 Hz amplitudes\n",
    "* coupling between 2.5 Hz phase and 25 Hz amplitudes"
   ]
  },
  {
   "cell_type": "code",
   "execution_count": null,
   "id": "f2f7a176-26b0-4287-8a02-4355a315cded",
   "metadata": {},
   "outputs": [],
   "source": [
    "# Define a Pac object\n",
    "p = tensorpac.Pac(idpac=(6,0,0), f_pha=(1,10,1,1), f_amp=(11,100,1,1))\n",
    "# Filter the data and extract pac\n",
    "xpac = p.filterfit(ieeg_AL.info.get('sfreq'), ieeg_AL.get_data(0))\n",
    "\n",
    "# Prpare figure\n",
    "fig, ax = plt.subplots(figsize=(15,10))\n",
    "\n",
    "\n",
    "# plot Phase-Amplitude Coupling :\n",
    "ax = p.comodulogram(xpac.mean(-1), cmap='Spectral_r', plotas='contour', ncontours=20,\n",
    "               title=r'<10hz phase$\\Leftrightarrow$>20Hz amplitude coupling',\n",
    "               fz_title=14, fz_labels=13)\n",
    "\n",
    "p.show()"
   ]
  }
 ],
 "metadata": {
  "kernelspec": {
   "display_name": "Python [conda env:teaching_env]",
   "language": "python",
   "name": "conda-env-teaching_env-py"
  },
  "language_info": {
   "codemirror_mode": {
    "name": "ipython",
    "version": 3
   },
   "file_extension": ".py",
   "mimetype": "text/x-python",
   "name": "python",
   "nbconvert_exporter": "python",
   "pygments_lexer": "ipython3",
   "version": "3.7.11"
  }
 },
 "nbformat": 4,
 "nbformat_minor": 5
}
